{
 "cells": [
  {
   "cell_type": "markdown",
   "metadata": {},
   "source": [
    "## Module 2 Assigment: Level 2\n",
    "\n"
   ]
  },
  {
   "cell_type": "markdown",
   "metadata": {},
   "source": [
    "## 1. Check the data type of all your variables using type() built-in function."
   ]
  },
  {
   "cell_type": "markdown",
   "metadata": {},
   "source": [
    "This excercise requires the use of the variables declared in [Module_02_excercise_level_1.]([URL](https://github.com/Auwal007/Cohort-3.0-Python-Programming-Fellowship-Assignments/blob/main/Module_02_Variables_builtin_functions/Module_02_excercise_level_1.ipynb)) To use the variables here in this file, I use the %run command.\n",
    "\n",
    "The %run command in Python is a special command used in Jupyter notebooks to execute another Python script (or notebook) from within the current notebook. This allows you to run an entire notebook or script and access all its variables, functions, and classes directly in the current environment."
   ]
  },
  {
   "cell_type": "code",
   "execution_count": null,
   "metadata": {},
   "outputs": [
    {
     "name": "stdout",
     "output_type": "stream",
     "text": [
      "Muhammad\n"
     ]
    }
   ],
   "source": [
    "# Run the first notebook to execute its code and access its variables\n",
    "%run Module_02_excercise_level_1.ipynb"
   ]
  },
  {
   "cell_type": "markdown",
   "metadata": {},
   "source": [
    "Now, all the variables in [Module_02_excercise_level_1]([URL](https://github.com/Auwal007/Cohort-3.0-Python-Programming-Fellowship-Assignments/blob/main/Module_02_Variables_builtin_functions/Module_02_excercise_level_1.ipynb)) are present in this file and I can continue with my task,"
   ]
  },
  {
   "cell_type": "code",
   "execution_count": null,
   "metadata": {},
   "outputs": [
    {
     "name": "stdout",
     "output_type": "stream",
     "text": [
      "<class 'str'>\n",
      "<class 'str'>\n",
      "<class 'str'>\n",
      "<class 'str'>\n",
      "<class 'str'>\n",
      "<class 'int'>\n",
      "<class 'int'>\n",
      "<class 'bool'>\n",
      "<class 'bool'>\n",
      "<class 'bool'>\n",
      "<class 'int'>\n",
      "<class 'int'>\n",
      "<class 'int'>\n"
     ]
    }
   ],
   "source": [
    "# Check the data types using type() function\n",
    "print(type(first_name))  \n",
    "print(type(last_name))   \n",
    "print(type(full_name))   \n",
    "print(type(country))     \n",
    "print(type(city))        \n",
    "print(type(age))         \n",
    "print(type(year))        \n",
    "print(type(is_married))  \n",
    "print(type(is_true))     \n",
    "print(type(is_light_on)) \n",
    "print(type(x))           \n",
    "print(type(y))           \n",
    "print(type(z))           \n"
   ]
  },
  {
   "cell_type": "markdown",
   "metadata": {},
   "source": [
    "## 2.  Using the len() built-in function, find the length of your first name."
   ]
  },
  {
   "cell_type": "code",
   "execution_count": 5,
   "metadata": {},
   "outputs": [
    {
     "name": "stdout",
     "output_type": "stream",
     "text": [
      "Length of first name: 8\n"
     ]
    }
   ],
   "source": [
    "# Find the length of first_name\n",
    "first_name_length = len(first_name)\n",
    "print(\"Length of first name:\", first_name_length)"
   ]
  },
  {
   "cell_type": "markdown",
   "metadata": {},
   "source": [
    "## 3. Compare the length of your first name and your last name."
   ]
  },
  {
   "cell_type": "code",
   "execution_count": 6,
   "metadata": {},
   "outputs": [
    {
     "name": "stdout",
     "output_type": "stream",
     "text": [
      "First name is longer than last name.\n"
     ]
    }
   ],
   "source": [
    "# Find the length of last_name\n",
    "last_name_length = len(last_name)\n",
    "\n",
    "# Compare lengths\n",
    "if first_name_length > last_name_length:\n",
    "    print(\"First name is longer than last name.\")\n",
    "elif first_name_length < last_name_length:\n",
    "    print(\"Last name is longer than first name.\")\n",
    "else:\n",
    "    print(\"First name and last name are of equal length.\")\n"
   ]
  },
  {
   "cell_type": "markdown",
   "metadata": {},
   "source": [
    "## 4. Declare 5 as num_one and 4 as num_two."
   ]
  },
  {
   "cell_type": "code",
   "execution_count": 7,
   "metadata": {},
   "outputs": [],
   "source": [
    "num_one = 5\n",
    "num_two = 4"
   ]
  },
  {
   "cell_type": "markdown",
   "metadata": {},
   "source": [
    "## 5. Add num_one and num_two and assign the value to a variable total."
   ]
  },
  {
   "cell_type": "code",
   "execution_count": 8,
   "metadata": {},
   "outputs": [
    {
     "name": "stdout",
     "output_type": "stream",
     "text": [
      "Total: 9\n"
     ]
    }
   ],
   "source": [
    "sum = num_one + num_two\n",
    "print(\"Total:\", sum)\n"
   ]
  },
  {
   "cell_type": "markdown",
   "metadata": {},
   "source": [
    "## 6. Subtract num_two from num_one and assign the value to a variable diff."
   ]
  },
  {
   "cell_type": "code",
   "execution_count": 10,
   "metadata": {},
   "outputs": [
    {
     "name": "stdout",
     "output_type": "stream",
     "text": [
      "Difference = 1\n"
     ]
    }
   ],
   "source": [
    "diff = num_one - num_two\n",
    "print(\"Difference =\", diff)\n"
   ]
  },
  {
   "cell_type": "markdown",
   "metadata": {},
   "source": [
    "## 7. Multiply num_two and num_one and assign the value to a variable product."
   ]
  },
  {
   "cell_type": "code",
   "execution_count": 11,
   "metadata": {},
   "outputs": [
    {
     "name": "stdout",
     "output_type": "stream",
     "text": [
      "Product: 20\n"
     ]
    }
   ],
   "source": [
    "product = num_one * num_two\n",
    "print(\"Product:\", product)"
   ]
  },
  {
   "cell_type": "markdown",
   "metadata": {},
   "source": [
    "## 8. Divide num_one by num_two and assign the value to a variable division."
   ]
  },
  {
   "cell_type": "code",
   "execution_count": 12,
   "metadata": {},
   "outputs": [
    {
     "name": "stdout",
     "output_type": "stream",
     "text": [
      "Division: 1.25\n"
     ]
    }
   ],
   "source": [
    "division = num_one / num_two\n",
    "print(\"Division:\", division)\n"
   ]
  },
  {
   "cell_type": "markdown",
   "metadata": {},
   "source": [
    "## 9. Use modulus division to find num_two divided by num_one and assign the value to a variable remainder."
   ]
  },
  {
   "cell_type": "code",
   "execution_count": 14,
   "metadata": {},
   "outputs": [
    {
     "name": "stdout",
     "output_type": "stream",
     "text": [
      "Remainder =  4\n"
     ]
    }
   ],
   "source": [
    "remainder = num_two % num_one\n",
    "print(\"Remainder = \", remainder)"
   ]
  },
  {
   "cell_type": "markdown",
   "metadata": {},
   "source": [
    "## 10. Calculate num_one to the power of num_two and assign the value to a variable exp."
   ]
  },
  {
   "cell_type": "code",
   "execution_count": null,
   "metadata": {},
   "outputs": [
    {
     "name": "stdout",
     "output_type": "stream",
     "text": [
      "Exponentiation: 625\n"
     ]
    }
   ],
   "source": [
    "exp = num_one ** num_two\n",
    "print(\"Exponentiation = \", exp)"
   ]
  },
  {
   "cell_type": "markdown",
   "metadata": {},
   "source": [
    "## 11. Find floor division of num_one by num_two and assign the value to a variable floor_division."
   ]
  },
  {
   "cell_type": "code",
   "execution_count": 16,
   "metadata": {},
   "outputs": [
    {
     "name": "stdout",
     "output_type": "stream",
     "text": [
      "Floor Division =  1\n"
     ]
    }
   ],
   "source": [
    "floor_division = num_one // num_two\n",
    "print(\"Floor Division = \", floor_division)"
   ]
  },
  {
   "cell_type": "markdown",
   "metadata": {},
   "source": [
    "## 12. The radius of a circle is 30 meters. "
   ]
  },
  {
   "cell_type": "markdown",
   "metadata": {},
   "source": [
    "### I. Calculate the area of a circle and assign the value to a variable name of area_of_circle."
   ]
  },
  {
   "cell_type": "code",
   "execution_count": 18,
   "metadata": {},
   "outputs": [
    {
     "name": "stdout",
     "output_type": "stream",
     "text": [
      "Area of circle =  2827.4333882308138\n"
     ]
    }
   ],
   "source": [
    "import math # To get the value of pi, we have to import math.\n",
    "\n",
    "radius = 30\n",
    "area_of_circle = math.pi * radius ** 2\n",
    "print(\"Area of circle = \", area_of_circle)"
   ]
  },
  {
   "cell_type": "markdown",
   "metadata": {},
   "source": [
    "### II. Calculate the circumference of a circle and assign the value to a variable name of circum_of_circle."
   ]
  },
  {
   "cell_type": "code",
   "execution_count": null,
   "metadata": {},
   "outputs": [
    {
     "name": "stdout",
     "output_type": "stream",
     "text": [
      "Circumference of circle: 188.49555921538757\n"
     ]
    }
   ],
   "source": [
    "circum_of_circle = 2 * math.pi * radius\n",
    "print(\"Circumference of circle = \", circum_of_circle)"
   ]
  },
  {
   "cell_type": "markdown",
   "metadata": {},
   "source": [
    "### III. Take radius as user input and calculate the area."
   ]
  },
  {
   "cell_type": "code",
   "execution_count": 20,
   "metadata": {},
   "outputs": [
    {
     "name": "stdout",
     "output_type": "stream",
     "text": [
      "Area of circle with user input radius =  13892.908112337462\n"
     ]
    }
   ],
   "source": [
    "# Get radius from user input\n",
    "radius_value = float(input(\"Enter the radius of the circle: \"))\n",
    "\n",
    "area_of_circle_input = math.pi * radius_value ** 2\n",
    "\n",
    "print(\"Area of circle with user input radius = \", area_of_circle_input)\n"
   ]
  },
  {
   "cell_type": "markdown",
   "metadata": {},
   "source": [
    "## 13. Use the built-in input() function to get first name, last name, country, and age from a user and store the value to their corresponding variable names."
   ]
  },
  {
   "cell_type": "code",
   "execution_count": null,
   "metadata": {},
   "outputs": [
    {
     "name": "stdout",
     "output_type": "stream",
     "text": [
      "First Name: Muhammad\n",
      "Last Name: Adam\n",
      "Country: Nigeria\n",
      "Age: 22\n",
      "Hello Muhammad Adam, you are 22 years old and you are from Nigeria.\n"
     ]
    }
   ],
   "source": [
    "# Get user input\n",
    "user_first_name = input(\"Enter your first name: \")\n",
    "user_last_name = input(\"Enter your last name: \")\n",
    "user_country = input(\"Enter your country: \")\n",
    "user_age = int(input(\"Enter your age: \"))\n",
    "\n",
    "print(\"First Name:\", user_first_name)\n",
    "print(\"Last Name:\", user_last_name)\n",
    "print(\"Country:\", user_country)\n",
    "print(\"Age:\", user_age)\n",
    "\n",
    "# Additional code\n",
    "print(f\"Hello {user_first_name} {user_last_name}, you are {user_age} years old and you are from {user_country}.\")\n"
   ]
  },
  {
   "cell_type": "markdown",
   "metadata": {},
   "source": [
    "## 14. Run help('keywords') in Python shell or in your file to check for the Python reserved words or keywords."
   ]
  },
  {
   "cell_type": "code",
   "execution_count": 29,
   "metadata": {},
   "outputs": [
    {
     "name": "stdout",
     "output_type": "stream",
     "text": [
      "\n",
      "Here is a list of the Python keywords.  Enter any keyword to get more help.\n",
      "\n",
      "False               class               from                or\n",
      "None                continue            global              pass\n",
      "True                def                 if                  raise\n",
      "and                 del                 import              return\n",
      "as                  elif                in                  try\n",
      "assert              else                is                  while\n",
      "async               except              lambda              with\n",
      "await               finally             nonlocal            yield\n",
      "break               for                 not                 \n",
      "\n"
     ]
    }
   ],
   "source": [
    "help('keywords')"
   ]
  }
 ],
 "metadata": {
  "kernelspec": {
   "display_name": "base",
   "language": "python",
   "name": "python3"
  },
  "language_info": {
   "codemirror_mode": {
    "name": "ipython",
    "version": 3
   },
   "file_extension": ".py",
   "mimetype": "text/x-python",
   "name": "python",
   "nbconvert_exporter": "python",
   "pygments_lexer": "ipython3",
   "version": "3.12.4"
  }
 },
 "nbformat": 4,
 "nbformat_minor": 2
}
