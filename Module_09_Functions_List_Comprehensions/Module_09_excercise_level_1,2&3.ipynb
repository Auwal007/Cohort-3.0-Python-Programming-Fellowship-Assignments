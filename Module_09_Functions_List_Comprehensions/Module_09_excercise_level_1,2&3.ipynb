{
 "cells": [
  {
   "cell_type": "markdown",
   "metadata": {},
   "source": [
    "#  Module 9 Assigment: Level 1\n",
    "\n"
   ]
  },
  {
   "cell_type": "markdown",
   "metadata": {},
   "source": [
    "## 1. Declare a function add_two_numbers. It takes two parameters and it returns a sum.\n"
   ]
  },
  {
   "cell_type": "code",
   "execution_count": 1,
   "metadata": {},
   "outputs": [
    {
     "data": {
      "text/plain": [
       "9"
      ]
     },
     "execution_count": 1,
     "metadata": {},
     "output_type": "execute_result"
    }
   ],
   "source": [
    "def add_two_numbers(a,b): \n",
    "    return a+b \n",
    "add_two_numbers(4,5)"
   ]
  },
  {
   "cell_type": "markdown",
   "metadata": {},
   "source": [
    "## 2. Area of a circle is calculated as follows: area = π x r x r. Write a function that calculates area_of_circle.\n"
   ]
  },
  {
   "cell_type": "code",
   "execution_count": 8,
   "metadata": {},
   "outputs": [
    {
     "data": {
      "text/plain": [
       "78.5"
      ]
     },
     "execution_count": 8,
     "metadata": {},
     "output_type": "execute_result"
    }
   ],
   "source": [
    "def area_of_circle(pi, radius):\n",
    "    area = pi*radius*radius\n",
    "    return area\n",
    "area_of_circle(3.14, 5)\n"
   ]
  },
  {
   "cell_type": "markdown",
   "metadata": {},
   "source": [
    "## 3. Write a function called add_all_nums which takes arbitrary number of arguments and sums all the arguments. Check if all the list items are number types. If not do give a reasonable feedback.\n"
   ]
  },
  {
   "cell_type": "code",
   "execution_count": 14,
   "metadata": {},
   "outputs": [
    {
     "data": {
      "text/plain": [
       "55"
      ]
     },
     "execution_count": 14,
     "metadata": {},
     "output_type": "execute_result"
    }
   ],
   "source": [
    "def add_all_nums(*args):\n",
    "    \"\"\"Sum all the arguments if they are numbers. Provide feedback if not.\"\"\"\n",
    "    # Check if all arguments are numbers\n",
    "    if all(isinstance(arg, (int, float)) for arg in args):\n",
    "        return sum(args)\n",
    "    else:\n",
    "        return \"Error: All arguments must be integers or floats.\"\n",
    "add_all_nums(1,2,3,4,5,6,7,8,9,10,)\n"
   ]
  },
  {
   "cell_type": "markdown",
   "metadata": {},
   "source": [
    "## 4. Temperature in °C can be converted to °F using this formula: °F = (°C x 9/5) + 32. Write a function which converts °C to °F, convert_celsius_to-fahrenheit."
   ]
  },
  {
   "cell_type": "code",
   "execution_count": 1,
   "metadata": {},
   "outputs": [
    {
     "data": {
      "text/plain": [
       "86.0"
      ]
     },
     "execution_count": 1,
     "metadata": {},
     "output_type": "execute_result"
    }
   ],
   "source": [
    "def convert_celsius_to_fahrenheit(celsius):\n",
    "    fahrenheit = (celsius * 9/5) + 32\n",
    "    return fahrenheit\n",
    "convert_celsius_to_fahrenheit(30)"
   ]
  },
  {
   "cell_type": "markdown",
   "metadata": {},
   "source": [
    "## 5. Write a function called check-season, it takes a month parameter and returns the season: Autumn, Winter, Spring or Summer.\n"
   ]
  },
  {
   "cell_type": "code",
   "execution_count": 8,
   "metadata": {},
   "outputs": [
    {
     "data": {
      "text/plain": [
       "'Autumn'"
      ]
     },
     "execution_count": 8,
     "metadata": {},
     "output_type": "execute_result"
    }
   ],
   "source": [
    "def check_season(month):\n",
    "    if month in [\"September\", \"October\", \"November\"]:\n",
    "        return \"Autumn\"\n",
    "    elif month in [\"December\", \"January\", \"February\"]:\n",
    "        return \"Winter\"\n",
    "    elif month in [\"March\", \"April\", \"May\"]:\n",
    "        return \"Spring\"\n",
    "    elif month in [\"June\", \"July\", \"August\"]:\n",
    "        return \"Summer\"\n",
    "    else:\n",
    "        return \"Please enter a valid month name.\"\n",
    "check_season(\"November\")"
   ]
  },
  {
   "cell_type": "markdown",
   "metadata": {},
   "source": [
    "## 6. Write a function called calculate_slope which return the slope of a linear equation\n"
   ]
  },
  {
   "cell_type": "code",
   "execution_count": 9,
   "metadata": {},
   "outputs": [
    {
     "data": {
      "text/plain": [
       "1.3333333333333333"
      ]
     },
     "execution_count": 9,
     "metadata": {},
     "output_type": "execute_result"
    }
   ],
   "source": [
    "def calculate_slope(x1, y1, x2, y2):\n",
    "    x1, y1 = 2, 4\n",
    "    x2, y2 = 8, 12\n",
    "    slope = (y2 - y1) / (x2 - x1)\n",
    "    return slope\n",
    "\n",
    "calculate_slope(2, 4, 8, 12)"
   ]
  },
  {
   "cell_type": "markdown",
   "metadata": {},
   "source": [
    "## 7. Quadratic equation is calculated as follows: ax² + bx + c = 0. Write a function which calculates solution set of a quadratic equation, solve_quadratic_eqn.\n"
   ]
  },
  {
   "cell_type": "code",
   "execution_count": 16,
   "metadata": {},
   "outputs": [
    {
     "name": "stdout",
     "output_type": "stream",
     "text": [
      "1\n"
     ]
    }
   ],
   "source": [
    "def solve_quadratic_eqn(a, x, b, c):\n",
    "    quadratic_eqn = a * (x**2) + b * x + c\n",
    "    return quadratic_eqn\n",
    "\n",
    "result = solve_quadratic_eqn(1, 1, -1, 1)\n",
    "print(result)\n"
   ]
  },
  {
   "cell_type": "markdown",
   "metadata": {},
   "source": [
    "## 8. Declare a function named print_list. It takes a list as a parameter and it prints out each element of the list.\n"
   ]
  },
  {
   "cell_type": "code",
   "execution_count": 17,
   "metadata": {},
   "outputs": [
    {
     "name": "stdout",
     "output_type": "stream",
     "text": [
      "a\n",
      "b\n",
      "c\n"
     ]
    }
   ],
   "source": [
    "def print_list(elements):\n",
    "    for element in elements:\n",
    "        print(element)\n",
    "print_list(['a', 'b', 'c'])\n"
   ]
  },
  {
   "cell_type": "markdown",
   "metadata": {},
   "source": [
    "## 9. Declare a function named reverse_list. It takes an array as a parameter and it returns the reverse of the array (use loops).\n",
    "``` python\n",
    "print(reverse_list([1, 2, 3, 4, 5]))\n",
    "# [5, 4, 3, 2, 1]\n",
    "print(reverse_list1([\"A\", \"B\", \"C\"]))\n",
    "# [\"C\", \"B\", \"A\"]\n",
    "```"
   ]
  },
  {
   "cell_type": "code",
   "execution_count": 28,
   "metadata": {},
   "outputs": [
    {
     "name": "stdout",
     "output_type": "stream",
     "text": [
      "[4, 3, 2, 1]\n"
     ]
    }
   ],
   "source": [
    "def reverse_list(array):\n",
    "    # Use the built-in reverse() method\n",
    "    array.reverse()\n",
    "    return array\n",
    "\n",
    "# Example usage\n",
    "print(reverse_list([1, 2, 3, 4]))\n"
   ]
  },
  {
   "cell_type": "markdown",
   "metadata": {},
   "source": [
    "## 10. Declare a function named capitalize_list_items. It takes a list as a parameter and it returns a capitalized list of items\n"
   ]
  },
  {
   "cell_type": "code",
   "execution_count": 38,
   "metadata": {},
   "outputs": [
    {
     "name": "stdout",
     "output_type": "stream",
     "text": [
      "['Ball', 'Cat', 'Gun']\n"
     ]
    }
   ],
   "source": [
    "def capitalize_list_items(lst):\n",
    "    capitalized = []  # Create an empty list to store the capitalized items\n",
    "    for item in lst:\n",
    "        capitalized.append(item.capitalize())  # Capitalize each item and append it to the list\n",
    "    return capitalized\n",
    "\n",
    "print(capitalize_list_items([\"ball\", \"cat\", \"gun\"]))\n"
   ]
  },
  {
   "cell_type": "markdown",
   "metadata": {},
   "source": [
    "## 11. Declare a function named add_item. It takes a list and an item parameters. It returns a list with the item added at the end.\n",
    "```python\n",
    "food_staff = ['Potato', 'Tomato', 'Mango', 'Milk']\n",
    "print(add_item(food_staff, 'Meat'))     # ['Potato', 'Tomato', 'Mango', 'Milk','Meat']\n",
    "numbers = [2, 3, 7, 9]\n",
    "print(add_item(numbers, 5))      [2, 3, 7, 9, 5]"
   ]
  },
  {
   "cell_type": "code",
   "execution_count": 40,
   "metadata": {},
   "outputs": [
    {
     "name": "stdout",
     "output_type": "stream",
     "text": [
      "['Potato', 'Tomato', 'Mango', 'Milk', 'Meat']\n"
     ]
    }
   ],
   "source": [
    "def add_item(lst, item):\n",
    "    lst.append(item)  \n",
    "    return lst\n",
    "\n",
    "food_staff = ['Potato', 'Tomato', 'Mango', 'Milk']\n",
    "print(add_item(food_staff, 'Meat')) \n",
    "\n"
   ]
  },
  {
   "cell_type": "markdown",
   "metadata": {},
   "source": [
    "## 12. Declare a function named remove_item. It takes a list and an item parameters. It returns a list with the item removed from it.\n",
    "```python\n",
    "food_staff = ['Potato', 'Tomato', 'Mango', 'Milk']\n",
    "print(remove_item(food_staff, 'Mango'))  # ['Potato', 'Tomato', 'Milk'];\n",
    "numbers = [2, 3, 7, 9]\n",
    "print(remove_item(numbers, 3))  # [2, 7, 9]"
   ]
  },
  {
   "cell_type": "code",
   "execution_count": 41,
   "metadata": {},
   "outputs": [
    {
     "name": "stdout",
     "output_type": "stream",
     "text": [
      "['Potato', 'Tomato', 'Mango', 'Milk']\n"
     ]
    }
   ],
   "source": [
    "def add_item(lst, item):\n",
    "    lst.remove(item)  \n",
    "    return lst\n",
    "\n",
    "food_staff = ['Potato', 'Tomato', 'Mango', 'Milk', 'Meat']\n",
    "print(add_item(food_staff, 'Meat')) \n"
   ]
  },
  {
   "cell_type": "markdown",
   "metadata": {},
   "source": [
    "## 13. Declare a function named sum_of_numbers. It takes a number parameter and it adds all the numbers in that range.\n",
    "```python\n",
    "print(sum_of_numbers(5))  # 15\n",
    "print(sum_of_numbers(10)) # 55\n",
    "print(sum_of_numbers(100)) # 5050"
   ]
  },
  {
   "cell_type": "code",
   "execution_count": 43,
   "metadata": {},
   "outputs": [
    {
     "name": "stdout",
     "output_type": "stream",
     "text": [
      "15\n"
     ]
    }
   ],
   "source": [
    "def sum_of_numbers(number):\n",
    "    return sum(range(1, number + 1))  \n",
    "print(sum_of_numbers(5))\n"
   ]
  },
  {
   "cell_type": "markdown",
   "metadata": {},
   "source": [
    "## 14. Declare a function named sum_of_odds. It takes a number parameter and it adds all the odd numbers in that range.\n"
   ]
  },
  {
   "cell_type": "code",
   "execution_count": 44,
   "metadata": {},
   "outputs": [
    {
     "name": "stdout",
     "output_type": "stream",
     "text": [
      "9\n"
     ]
    }
   ],
   "source": [
    "def sum_of_odds(number):\n",
    "    return sum(range(1, number + 1, 2))  # Using a step of 2 to get odd numbers\n",
    "\n",
    "print(sum_of_odds(5))  # 9"
   ]
  },
  {
   "cell_type": "markdown",
   "metadata": {},
   "source": [
    "## 15 Declare a function named sum_of_even. It takes a number parameter and it adds all the even numbers in that - range.\n"
   ]
  },
  {
   "cell_type": "code",
   "execution_count": 47,
   "metadata": {},
   "outputs": [
    {
     "name": "stdout",
     "output_type": "stream",
     "text": [
      "30\n"
     ]
    }
   ],
   "source": [
    "def sum_of_even(number):\n",
    "    return sum(range(0, number + 1, 2))  # Using a step of 2 to get even numbers\n",
    "\n",
    "print(sum_of_even(10)) "
   ]
  },
  {
   "cell_type": "markdown",
   "metadata": {},
   "source": [
    "#  Module 9 Assigment: Level 2\n",
    "\n"
   ]
  },
  {
   "cell_type": "markdown",
   "metadata": {},
   "source": [
    "## 1. Declare a function named evens_and_odds . It takes a positive integer as parameter and it counts number of evens and odds in the number.\n",
    "```py\n",
    "    print(evens_and_odds(100))\n",
    "    # The number of odds are 50.\n",
    "    # The number of evens are 51."
   ]
  },
  {
   "cell_type": "code",
   "execution_count": 10,
   "metadata": {},
   "outputs": [
    {
     "name": "stdout",
     "output_type": "stream",
     "text": [
      "The number of odds are 50\n",
      "The number of evens are 50\n"
     ]
    }
   ],
   "source": [
    "def evens_and_odds(number):\n",
    "    evens = []\n",
    "    odd = []\n",
    "    for i in range(1, number + 1):\n",
    "        if i % 2 == 0:\n",
    "            evens.append(i)\n",
    "        else:\n",
    "            odd.append(i)\n",
    "    return evens, odd\n",
    "\n",
    "evens, odd = evens_and_odds(100)\n",
    "\n",
    "print(f\"The number of odds are {len(odd)}\")\n",
    "print(f\"The number of evens are {len(evens)}\")\n"
   ]
  }
 ],
 "metadata": {
  "kernelspec": {
   "display_name": "base",
   "language": "python",
   "name": "python3"
  },
  "language_info": {
   "codemirror_mode": {
    "name": "ipython",
    "version": 3
   },
   "file_extension": ".py",
   "mimetype": "text/x-python",
   "name": "python",
   "nbconvert_exporter": "python",
   "pygments_lexer": "ipython3",
   "version": "3.12.4"
  }
 },
 "nbformat": 4,
 "nbformat_minor": 2
}
