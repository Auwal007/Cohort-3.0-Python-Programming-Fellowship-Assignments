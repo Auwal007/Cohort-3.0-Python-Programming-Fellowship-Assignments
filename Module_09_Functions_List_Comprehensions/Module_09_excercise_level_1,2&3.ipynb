{
 "cells": [
  {
   "cell_type": "markdown",
   "metadata": {},
   "source": [
    "#  Module 9 Assigment: Level 1\n",
    "\n"
   ]
  },
  {
   "cell_type": "markdown",
   "metadata": {},
   "source": [
    "## 1. Declare a function add_two_numbers. It takes two parameters and it returns a sum.\n"
   ]
  },
  {
   "cell_type": "code",
   "execution_count": 1,
   "metadata": {},
   "outputs": [
    {
     "data": {
      "text/plain": [
       "9"
      ]
     },
     "execution_count": 1,
     "metadata": {},
     "output_type": "execute_result"
    }
   ],
   "source": [
    "def add_two_numbers(a,b): \n",
    "    return a+b \n",
    "add_two_numbers(4,5)"
   ]
  },
  {
   "cell_type": "markdown",
   "metadata": {},
   "source": [
    "## 2. Area of a circle is calculated as follows: area = π x r x r. Write a function that calculates area_of_circle.\n"
   ]
  },
  {
   "cell_type": "code",
   "execution_count": 8,
   "metadata": {},
   "outputs": [
    {
     "data": {
      "text/plain": [
       "78.5"
      ]
     },
     "execution_count": 8,
     "metadata": {},
     "output_type": "execute_result"
    }
   ],
   "source": [
    "def area_of_circle(pi, radius):\n",
    "    area = pi*radius*radius\n",
    "    return area\n",
    "area_of_circle(3.14, 5)\n"
   ]
  },
  {
   "cell_type": "markdown",
   "metadata": {},
   "source": [
    "## 3. Write a function called add_all_nums which takes arbitrary number of arguments and sums all the arguments. Check if all the list items are number types. If not do give a reasonable feedback.\n"
   ]
  },
  {
   "cell_type": "code",
   "execution_count": 14,
   "metadata": {},
   "outputs": [
    {
     "data": {
      "text/plain": [
       "55"
      ]
     },
     "execution_count": 14,
     "metadata": {},
     "output_type": "execute_result"
    }
   ],
   "source": [
    "def add_all_nums(*args):\n",
    "    \"\"\"Sum all the arguments if they are numbers. Provide feedback if not.\"\"\"\n",
    "    # Check if all arguments are numbers\n",
    "    if all(isinstance(arg, (int, float)) for arg in args):\n",
    "        return sum(args)\n",
    "    else:\n",
    "        return \"Error: All arguments must be integers or floats.\"\n",
    "add_all_nums(1,2,3,4,5,6,7,8,9,10,)\n"
   ]
  },
  {
   "cell_type": "markdown",
   "metadata": {},
   "source": [
    "## 4. Temperature in °C can be converted to °F using this formula: °F = (°C x 9/5) + 32. Write a function which converts °C to °F, convert_celsius_to-fahrenheit."
   ]
  },
  {
   "cell_type": "code",
   "execution_count": 1,
   "metadata": {},
   "outputs": [
    {
     "data": {
      "text/plain": [
       "86.0"
      ]
     },
     "execution_count": 1,
     "metadata": {},
     "output_type": "execute_result"
    }
   ],
   "source": [
    "def convert_celsius_to_fahrenheit(celsius):\n",
    "    fahrenheit = (celsius * 9/5) + 32\n",
    "    return fahrenheit\n",
    "convert_celsius_to_fahrenheit(30)"
   ]
  },
  {
   "cell_type": "markdown",
   "metadata": {},
   "source": [
    "## 5. Write a function called check-season, it takes a month parameter and returns the season: Autumn, Winter, Spring or Summer.\n"
   ]
  },
  {
   "cell_type": "code",
   "execution_count": 8,
   "metadata": {},
   "outputs": [
    {
     "data": {
      "text/plain": [
       "'Autumn'"
      ]
     },
     "execution_count": 8,
     "metadata": {},
     "output_type": "execute_result"
    }
   ],
   "source": [
    "def check_season(month):\n",
    "    if month in [\"September\", \"October\", \"November\"]:\n",
    "        return \"Autumn\"\n",
    "    elif month in [\"December\", \"January\", \"February\"]:\n",
    "        return \"Winter\"\n",
    "    elif month in [\"March\", \"April\", \"May\"]:\n",
    "        return \"Spring\"\n",
    "    elif month in [\"June\", \"July\", \"August\"]:\n",
    "        return \"Summer\"\n",
    "    else:\n",
    "        return \"Please enter a valid month name.\"\n",
    "check_season(\"November\")"
   ]
  },
  {
   "cell_type": "markdown",
   "metadata": {},
   "source": [
    "## 6. Write a function called calculate_slope which return the slope of a linear equation\n"
   ]
  },
  {
   "cell_type": "code",
   "execution_count": 9,
   "metadata": {},
   "outputs": [
    {
     "data": {
      "text/plain": [
       "1.3333333333333333"
      ]
     },
     "execution_count": 9,
     "metadata": {},
     "output_type": "execute_result"
    }
   ],
   "source": [
    "def calculate_slope(x1, y1, x2, y2):\n",
    "    x1, y1 = 2, 4\n",
    "    x2, y2 = 8, 12\n",
    "    slope = (y2 - y1) / (x2 - x1)\n",
    "    return slope\n",
    "\n",
    "calculate_slope(2, 4, 8, 12)"
   ]
  },
  {
   "cell_type": "markdown",
   "metadata": {},
   "source": [
    "## 7. Quadratic equation is calculated as follows: ax² + bx + c = 0. Write a function which calculates solution set of a quadratic equation, solve_quadratic_eqn.\n"
   ]
  },
  {
   "cell_type": "code",
   "execution_count": 16,
   "metadata": {},
   "outputs": [
    {
     "name": "stdout",
     "output_type": "stream",
     "text": [
      "1\n"
     ]
    }
   ],
   "source": [
    "def solve_quadratic_eqn(a, x, b, c):\n",
    "    quadratic_eqn = a * (x**2) + b * x + c\n",
    "    return quadratic_eqn\n",
    "\n",
    "result = solve_quadratic_eqn(1, 1, -1, 1)\n",
    "print(result)\n"
   ]
  },
  {
   "cell_type": "markdown",
   "metadata": {},
   "source": [
    "## 8. Declare a function named print_list. It takes a list as a parameter and it prints out each element of the list.\n"
   ]
  },
  {
   "cell_type": "code",
   "execution_count": 17,
   "metadata": {},
   "outputs": [
    {
     "name": "stdout",
     "output_type": "stream",
     "text": [
      "a\n",
      "b\n",
      "c\n"
     ]
    }
   ],
   "source": [
    "def print_list(elements):\n",
    "    for element in elements:\n",
    "        print(element)\n",
    "print_list(['a', 'b', 'c'])\n"
   ]
  },
  {
   "cell_type": "markdown",
   "metadata": {},
   "source": [
    "## 9. Declare a function named reverse_list. It takes an array as a parameter and it returns the reverse of the array (use loops).\n",
    "``` python\n",
    "print(reverse_list([1, 2, 3, 4, 5]))\n",
    "# [5, 4, 3, 2, 1]\n",
    "print(reverse_list1([\"A\", \"B\", \"C\"]))\n",
    "# [\"C\", \"B\", \"A\"]\n",
    "```"
   ]
  },
  {
   "cell_type": "code",
   "execution_count": 28,
   "metadata": {},
   "outputs": [
    {
     "name": "stdout",
     "output_type": "stream",
     "text": [
      "[4, 3, 2, 1]\n"
     ]
    }
   ],
   "source": [
    "def reverse_list(array):\n",
    "    # Use the built-in reverse() method\n",
    "    array.reverse()\n",
    "    return array\n",
    "\n",
    "# Example usage\n",
    "print(reverse_list([1, 2, 3, 4]))\n"
   ]
  },
  {
   "cell_type": "markdown",
   "metadata": {},
   "source": [
    "## 10. Declare a function named capitalize_list_items. It takes a list as a parameter and it returns a capitalized list of items\n"
   ]
  },
  {
   "cell_type": "code",
   "execution_count": 38,
   "metadata": {},
   "outputs": [
    {
     "name": "stdout",
     "output_type": "stream",
     "text": [
      "['Ball', 'Cat', 'Gun']\n"
     ]
    }
   ],
   "source": [
    "def capitalize_list_items(lst):\n",
    "    capitalized = []  # Create an empty list to store the capitalized items\n",
    "    for item in lst:\n",
    "        capitalized.append(item.capitalize())  # Capitalize each item and append it to the list\n",
    "    return capitalized\n",
    "\n",
    "print(capitalize_list_items([\"ball\", \"cat\", \"gun\"]))\n"
   ]
  },
  {
   "cell_type": "markdown",
   "metadata": {},
   "source": [
    "## 11. Declare a function named add_item. It takes a list and an item parameters. It returns a list with the item added at the end.\n",
    "```python\n",
    "food_staff = ['Potato', 'Tomato', 'Mango', 'Milk']\n",
    "print(add_item(food_staff, 'Meat'))     # ['Potato', 'Tomato', 'Mango', 'Milk','Meat']\n",
    "numbers = [2, 3, 7, 9]\n",
    "print(add_item(numbers, 5))      [2, 3, 7, 9, 5]"
   ]
  },
  {
   "cell_type": "code",
   "execution_count": 40,
   "metadata": {},
   "outputs": [
    {
     "name": "stdout",
     "output_type": "stream",
     "text": [
      "['Potato', 'Tomato', 'Mango', 'Milk', 'Meat']\n"
     ]
    }
   ],
   "source": [
    "def add_item(lst, item):\n",
    "    lst.append(item)  \n",
    "    return lst\n",
    "\n",
    "food_staff = ['Potato', 'Tomato', 'Mango', 'Milk']\n",
    "print(add_item(food_staff, 'Meat')) \n",
    "\n"
   ]
  },
  {
   "cell_type": "markdown",
   "metadata": {},
   "source": [
    "## 12. Declare a function named remove_item. It takes a list and an item parameters. It returns a list with the item removed from it.\n",
    "```python\n",
    "food_staff = ['Potato', 'Tomato', 'Mango', 'Milk']\n",
    "print(remove_item(food_staff, 'Mango'))  # ['Potato', 'Tomato', 'Milk'];\n",
    "numbers = [2, 3, 7, 9]\n",
    "print(remove_item(numbers, 3))  # [2, 7, 9]"
   ]
  },
  {
   "cell_type": "code",
   "execution_count": 41,
   "metadata": {},
   "outputs": [
    {
     "name": "stdout",
     "output_type": "stream",
     "text": [
      "['Potato', 'Tomato', 'Mango', 'Milk']\n"
     ]
    }
   ],
   "source": [
    "def add_item(lst, item):\n",
    "    lst.remove(item)  \n",
    "    return lst\n",
    "\n",
    "food_staff = ['Potato', 'Tomato', 'Mango', 'Milk', 'Meat']\n",
    "print(add_item(food_staff, 'Meat')) \n"
   ]
  },
  {
   "cell_type": "markdown",
   "metadata": {},
   "source": [
    "## 13. Declare a function named sum_of_numbers. It takes a number parameter and it adds all the numbers in that range.\n",
    "```python\n",
    "print(sum_of_numbers(5))  # 15\n",
    "print(sum_of_numbers(10)) # 55\n",
    "print(sum_of_numbers(100)) # 5050"
   ]
  },
  {
   "cell_type": "code",
   "execution_count": 43,
   "metadata": {},
   "outputs": [
    {
     "name": "stdout",
     "output_type": "stream",
     "text": [
      "15\n"
     ]
    }
   ],
   "source": [
    "def sum_of_numbers(number):\n",
    "    return sum(range(1, number + 1))  \n",
    "print(sum_of_numbers(5))\n"
   ]
  },
  {
   "cell_type": "markdown",
   "metadata": {},
   "source": [
    "## 14. Declare a function named sum_of_odds. It takes a number parameter and it adds all the odd numbers in that range.\n"
   ]
  },
  {
   "cell_type": "code",
   "execution_count": 44,
   "metadata": {},
   "outputs": [
    {
     "name": "stdout",
     "output_type": "stream",
     "text": [
      "9\n"
     ]
    }
   ],
   "source": [
    "def sum_of_odds(number):\n",
    "    return sum(range(1, number + 1, 2))  # Using a step of 2 to get odd numbers\n",
    "\n",
    "print(sum_of_odds(5))  # 9"
   ]
  },
  {
   "cell_type": "markdown",
   "metadata": {},
   "source": [
    "## 15 Declare a function named sum_of_even. It takes a number parameter and it adds all the even numbers in that - range.\n"
   ]
  },
  {
   "cell_type": "code",
   "execution_count": 47,
   "metadata": {},
   "outputs": [
    {
     "name": "stdout",
     "output_type": "stream",
     "text": [
      "30\n"
     ]
    }
   ],
   "source": [
    "def sum_of_even(number):\n",
    "    return sum(range(0, number + 1, 2))  # Using a step of 2 to get even numbers\n",
    "\n",
    "print(sum_of_even(10)) "
   ]
  },
  {
   "cell_type": "markdown",
   "metadata": {},
   "source": [
    "#  Module 9 Assigment: Level 2\n",
    "\n"
   ]
  },
  {
   "cell_type": "markdown",
   "metadata": {},
   "source": [
    "## 1. Declare a function named evens_and_odds . It takes a positive integer as parameter and it counts number of evens and odds in the number.\n",
    "```py\n",
    "    print(evens_and_odds(100))\n",
    "    # The number of odds are 50.\n",
    "    # The number of evens are 51."
   ]
  },
  {
   "cell_type": "code",
   "execution_count": 10,
   "metadata": {},
   "outputs": [
    {
     "name": "stdout",
     "output_type": "stream",
     "text": [
      "The number of odds are 50\n",
      "The number of evens are 50\n"
     ]
    }
   ],
   "source": [
    "def evens_and_odds(number):\n",
    "    evens = []\n",
    "    odd = []\n",
    "    for i in range(1, number + 1):\n",
    "        if i % 2 == 0:\n",
    "            evens.append(i)\n",
    "        else:\n",
    "            odd.append(i)\n",
    "    return evens, odd\n",
    "\n",
    "evens, odd = evens_and_odds(100)\n",
    "\n",
    "print(f\"The number of odds are {len(odd)}\")\n",
    "print(f\"The number of evens are {len(evens)}\")\n"
   ]
  },
  {
   "cell_type": "markdown",
   "metadata": {},
   "source": [
    "## 2. Call your function factorial, it takes a whole number as a parameter and it return a factorial of the number.\n"
   ]
  },
  {
   "cell_type": "code",
   "execution_count": 11,
   "metadata": {},
   "outputs": [
    {
     "name": "stdout",
     "output_type": "stream",
     "text": [
      "The factorial of 5 is 120\n"
     ]
    }
   ],
   "source": [
    "def factorial(number):\n",
    "    if number < 0:\n",
    "        return \"Factorial is not defined for negative numbers.\"\n",
    "    elif number == 0 or number == 1:\n",
    "        return 1\n",
    "    else:\n",
    "        result = 1\n",
    "        for i in range(2, number + 1):\n",
    "            result *= i\n",
    "        return result\n",
    "\n",
    "num = 5\n",
    "print(f\"The factorial of {num} is {factorial(num)}\")\n"
   ]
  },
  {
   "cell_type": "markdown",
   "metadata": {},
   "source": [
    "## 3. Call your function is_empty, it takes a parameter and it checks if it is empty or not."
   ]
  },
  {
   "cell_type": "code",
   "execution_count": 12,
   "metadata": {},
   "outputs": [
    {
     "name": "stdout",
     "output_type": "stream",
     "text": [
      "True\n",
      "True\n",
      "True\n",
      "True\n",
      "True\n",
      "False\n",
      "False\n"
     ]
    }
   ],
   "source": [
    "def is_empty(param):\n",
    "    return not bool(param)\n",
    "\n",
    "# Example usage\n",
    "print(is_empty(\"\"))         # True (Empty string)\n",
    "print(is_empty([]))         # True (Empty list)\n",
    "print(is_empty({}))         # True (Empty dictionary)\n",
    "print(is_empty(0))          # True (0 is considered \"empty\")\n",
    "print(is_empty(None))       # True (None is empty)\n",
    "print(is_empty(\"Hello\"))    # False (Non-empty string)\n",
    "print(is_empty([1, 2, 3]))  # False (\n"
   ]
  },
  {
   "cell_type": "markdown",
   "metadata": {},
   "source": [
    "## 4. Write different functions which take lists. They should calculate_mean, calculate_median, calculate_mode, calculate_range, calculate_variance, calculate_std (standard deviation)"
   ]
  },
  {
   "cell_type": "code",
   "execution_count": 1,
   "metadata": {},
   "outputs": [
    {
     "name": "stdout",
     "output_type": "stream",
     "text": [
      "Mean: 2.4\n",
      "Median: 2\n",
      "Mode: [2]\n",
      "Range: 3\n",
      "Variance: 1.04\n",
      "Standard Deviation: 1.019803902718557\n"
     ]
    }
   ],
   "source": [
    "from collections import Counter\n",
    "import math\n",
    "\n",
    "# Function to calculate the mean\n",
    "def calculate_mean(data):\n",
    "    if not data:\n",
    "        raise ValueError(\"The list is empty\")\n",
    "    return sum(data) / len(data)\n",
    "\n",
    "# Function to calculate the median\n",
    "def calculate_median(data):\n",
    "    if not data:\n",
    "        raise ValueError(\"The list is empty\")\n",
    "    sorted_data = sorted(data)\n",
    "    n = len(sorted_data)\n",
    "    mid = n // 2\n",
    "    if n % 2 == 0:\n",
    "        return (sorted_data[mid - 1] + sorted_data[mid]) / 2\n",
    "    else:\n",
    "        return sorted_data[mid]\n",
    "\n",
    "# Function to calculate the mode\n",
    "def calculate_mode(data):\n",
    "    if not data:\n",
    "        raise ValueError(\"The list is empty\")\n",
    "    counter = Counter(data)\n",
    "    max_count = max(counter.values())\n",
    "    modes = [key for key, count in counter.items() if count == max_count]\n",
    "    if len(modes) == len(data):\n",
    "        raise ValueError(\"No mode found (all values are unique)\")\n",
    "    return modes\n",
    "\n",
    "# Function to calculate the range\n",
    "def calculate_range(data):\n",
    "    if not data:\n",
    "        raise ValueError(\"The list is empty\")\n",
    "    return max(data) - min(data)\n",
    "\n",
    "# Function to calculate the variance\n",
    "def calculate_variance(data):\n",
    "    if not data:\n",
    "        raise ValueError(\"The list is empty\")\n",
    "    mean = calculate_mean(data)\n",
    "    return sum((x - mean) ** 2 for x in data) / len(data)\n",
    "\n",
    "# Function to calculate the standard deviation\n",
    "def calculate_std(data):\n",
    "    if not data:\n",
    "        raise ValueError(\"The list is empty\")\n",
    "    variance = calculate_variance(data)\n",
    "    return math.sqrt(variance)\n",
    "\n",
    "# Example usage\n",
    "data = [1, 2, 2, 3, 4]\n",
    "\n",
    "print(\"Mean:\", calculate_mean(data))\n",
    "print(\"Median:\", calculate_median(data))\n",
    "print(\"Mode:\", calculate_mode(data))\n",
    "print(\"Range:\", calculate_range(data))\n",
    "print(\"Variance:\", calculate_variance(data))\n",
    "print(\"Standard Deviation:\", calculate_std(data))\n"
   ]
  },
  {
   "cell_type": "markdown",
   "metadata": {},
   "source": [
    "#  Module 9 Assigment: Level 3"
   ]
  },
  {
   "cell_type": "markdown",
   "metadata": {},
   "source": [
    "## 1. Write a function called is_prime, which checks if a number is prime.\n"
   ]
  },
  {
   "cell_type": "code",
   "execution_count": 1,
   "metadata": {},
   "outputs": [
    {
     "name": "stdout",
     "output_type": "stream",
     "text": [
      "True\n",
      "False\n",
      "True\n"
     ]
    }
   ],
   "source": [
    "def is_prime(n):\n",
    "    # Numbers less than 2 are not prime\n",
    "    if n < 2:\n",
    "        return False\n",
    "    \n",
    "    # Check for divisors from 2 to the square root of n\n",
    "    for i in range(2, int(n**0.5) + 1):\n",
    "        if n % i == 0:\n",
    "            return False\n",
    "    \n",
    "    return True\n",
    "\n",
    "print(is_prime(2)) \n",
    "print(is_prime(15)) \n",
    "print(is_prime(17)) \n"
   ]
  },
  {
   "cell_type": "markdown",
   "metadata": {},
   "source": [
    "## 2. Write a functions which checks if all items are unique in the list."
   ]
  },
  {
   "cell_type": "code",
   "execution_count": 2,
   "metadata": {},
   "outputs": [
    {
     "name": "stdout",
     "output_type": "stream",
     "text": [
      "True\n",
      "False\n"
     ]
    }
   ],
   "source": [
    "def all_unique(lst):\n",
    "    return len(lst) == len(set(lst))\n",
    "\n",
    "print(all_unique([1, 2, 3, 4]))  \n",
    "print(all_unique([1, 2, 2, 4]))  \n"
   ]
  },
  {
   "cell_type": "markdown",
   "metadata": {},
   "source": [
    "## 3. Write a function which checks if all the items of the list are of the same data type."
   ]
  },
  {
   "cell_type": "code",
   "execution_count": 8,
   "metadata": {},
   "outputs": [
    {
     "name": "stdout",
     "output_type": "stream",
     "text": [
      "False\n",
      "True\n"
     ]
    }
   ],
   "source": [
    "def same_type(lst):\n",
    "    if not lst: \n",
    "        return True \n",
    "    first_type = type(lst[0])  \n",
    "    for item in lst:\n",
    "        if type(item) != first_type:  \n",
    "            return False\n",
    "    return True  \n",
    "# Test cases\n",
    "print(same_type([1, 2, 3, 4, \"age\"]))  \n",
    "print(same_type([1, 2, 2, 4]))         \n"
   ]
  },
  {
   "cell_type": "markdown",
   "metadata": {},
   "source": [
    "## 4. Write a function which check if provided variable is a valid python variable."
   ]
  },
  {
   "cell_type": "code",
   "execution_count": 9,
   "metadata": {},
   "outputs": [
    {
     "name": "stdout",
     "output_type": "stream",
     "text": [
      "True\n",
      "False\n",
      "True\n",
      "False\n",
      "True\n"
     ]
    }
   ],
   "source": [
    "import keyword\n",
    "import re\n",
    "\n",
    "def is_valid_variable_name(variable_name):\n",
    "    \"\"\"\n",
    "    Check if the provided variable_name is a valid Python variable name.\n",
    "    \n",
    "    :param variable_name: str, the variable name to check\n",
    "    :return: bool, True if valid, False otherwise\n",
    "    \"\"\"\n",
    "    # Variable names must be a string\n",
    "    if not isinstance(variable_name, str):\n",
    "        return False\n",
    "    \n",
    "    # Check if it is a Python keyword\n",
    "    if keyword.iskeyword(variable_name):\n",
    "        return False\n",
    "    \n",
    "    # Regular expression for valid Python identifiers\n",
    "    if re.match(r'^[a-zA-Z_]\\w*$', variable_name):\n",
    "        return True\n",
    "    else:\n",
    "        return False\n",
    "\n",
    "# Test cases\n",
    "print(is_valid_variable_name(\"my_var\"))     # True\n",
    "print(is_valid_variable_name(\"2variable\"))  # False\n",
    "print(is_valid_variable_name(\"_valid_var\")) # True\n",
    "print(is_valid_variable_name(\"class\"))      # False (keyword)\n",
    "print(is_valid_variable_name(\"valid123\"))   # True\n"
   ]
  },
  {
   "cell_type": "markdown",
   "metadata": {},
   "source": [
    "## 5. Go to the data folder and access the countries-data.py file.\n",
    "   - ## Create a function called the most_spoken_languages in the world. It should return 10 or 20 most spoken languages in the world in descending order\n",
    "   - ## Create a function called the most_populated_countries. It should return 10 or 20 most populated countries in descending order."
   ]
  },
  {
   "cell_type": "code",
   "execution_count": null,
   "metadata": {},
   "outputs": [],
   "source": [
    "from countries_data import countries_data "
   ]
  },
  {
   "cell_type": "code",
   "execution_count": 5,
   "metadata": {},
   "outputs": [
    {
     "name": "stdout",
     "output_type": "stream",
     "text": [
      "Top 10 most spoken languages:\n",
      "English: 91 countries\n",
      "French: 45 countries\n",
      "Arabic: 25 countries\n",
      "Spanish: 24 countries\n",
      "Portuguese: 9 countries\n",
      "Russian: 9 countries\n",
      "Dutch: 8 countries\n",
      "German: 7 countries\n",
      "Chinese: 5 countries\n",
      "Serbian: 4 countries\n"
     ]
    }
   ],
   "source": [
    "def most_spoken_languages(countries_data):\n",
    "    \"\"\"\n",
    "    Returns the top 10 most spoken languages in descending order of their frequency of use.\n",
    "\n",
    "    Args:\n",
    "        countries_data (list): A list of dictionaries where each dictionary contains country data,\n",
    "                               including a \"languages\" key with a list of languages spoken.\n",
    "\n",
    "    Returns:\n",
    "        list: A list of tuples representing the top 10 most spoken languages and their frequencies.\n",
    "    \"\"\"\n",
    "    language_count = {}\n",
    "\n",
    "    # Count the frequency of each language\n",
    "    for country in countries_data:\n",
    "        for language in country[\"languages\"]:\n",
    "            language_count[language] = language_count.get(language, 0) + 1\n",
    "\n",
    "    # Sort languages by frequency in descending order and take the top 10\n",
    "    sorted_languages = sorted(language_count.items(), key=lambda x: x[1], reverse=True)\n",
    "    \n",
    "    return sorted_languages[:10]\n",
    "\n",
    "# Example usage:\n",
    "# Assuming countries_data is already defined or imported\n",
    "top_10_languages = most_spoken_languages(countries_data)\n",
    "print(\"Top 10 most spoken languages:\")\n",
    "for language, count in top_10_languages:\n",
    "    print(f\"{language}: {count} countries\")\n"
   ]
  },
  {
   "cell_type": "code",
   "execution_count": 6,
   "metadata": {},
   "outputs": [
    {
     "name": "stdout",
     "output_type": "stream",
     "text": [
      "Top 10 most populated countries:\n",
      "China: 1377422166 population\n",
      "India: 1295210000 population\n",
      "United States of America: 323947000 population\n",
      "Indonesia: 258705000 population\n",
      "Brazil: 206135893 population\n",
      "Pakistan: 194125062 population\n",
      "Nigeria: 186988000 population\n",
      "Bangladesh: 161006790 population\n",
      "Russian Federation: 146599183 population\n",
      "Japan: 126960000 population\n"
     ]
    }
   ],
   "source": [
    "def most_populated_countries(countries_data, n=10):\n",
    "    # Sort the countries by population in descending order\n",
    "    sorted_countries = sorted(countries_data, key=lambda x: x[\"population\"], reverse=True)\n",
    "    \n",
    "    return sorted_countries[:n]\n",
    "\n",
    "# Example usage:\n",
    "# Assuming countries_data is already defined or imported\n",
    "top_populated_countries = most_populated_countries(countries_data, 10)\n",
    "print(\"Top 10 most populated countries:\")\n",
    "for country in top_populated_countries:\n",
    "    print(f\"{country['name']}: {country['population']} population\")\n"
   ]
  },
  {
   "cell_type": "markdown",
   "metadata": {},
   "source": [
    "# 💻 List Comprehensions Exercises"
   ]
  },
  {
   "cell_type": "markdown",
   "metadata": {},
   "source": [
    "## 1. Filter only negative and zero in the list using list comprehension\n",
    "\n",
    "``` python\n",
    "numbers = [-4, -3, -2, -1, 0, 2, 4, 6]"
   ]
  },
  {
   "cell_type": "code",
   "execution_count": 8,
   "metadata": {},
   "outputs": [
    {
     "name": "stdout",
     "output_type": "stream",
     "text": [
      "[-4, -3, -2, -1, 0]\n"
     ]
    }
   ],
   "source": [
    "numbers = [-4, -3, -2, -1, 0, 2, 4, 6]\n",
    "\n",
    "negative_and_zero = [num for num in numbers if num <= 0]\n",
    "print(negative_and_zero)"
   ]
  },
  {
   "cell_type": "markdown",
   "metadata": {},
   "source": [
    "## 2. Flatten the following list of lists of lists to a one dimensional list :\n",
    "``` python\n",
    "list_of_lists =[[[1, 2, 3]], [[4, 5, 6]], [[7, 8, 9]]]\n",
    "\n",
    "output\n",
    "[1, 2, 3, 4, 5, 6, 7, 8, 9]"
   ]
  },
  {
   "cell_type": "code",
   "execution_count": 11,
   "metadata": {},
   "outputs": [
    {
     "name": "stdout",
     "output_type": "stream",
     "text": [
      "[1, 2, 3, 4, 5, 6, 7, 8, 9]\n"
     ]
    }
   ],
   "source": [
    "list_of_lists =[[[1, 2, 3]], [[4, 5, 6]], [[7, 8, 9]]]\n",
    "\n",
    "\n",
    "flattened_list = [number for row in list_of_lists for inner_list in row for number in inner_list]\n",
    "print(flattened_list)\n"
   ]
  },
  {
   "cell_type": "markdown",
   "metadata": {},
   "source": [
    "## 3. Using list comprehension create the following list of tuples:\n",
    "``` python\n",
    "[(0, 1, 0, 0, 0, 0, 0),\n",
    "(1, 1, 1, 1, 1, 1, 1),\n",
    "(2, 1, 2, 4, 8, 16, 32),\n",
    "(3, 1, 3, 9, 27, 81, 243),\n",
    "(4, 1, 4, 16, 64, 256, 1024),\n",
    "(5, 1, 5, 25, 125, 625, 3125),\n",
    "(6, 1, 6, 36, 216, 1296, 7776),\n",
    "(7, 1, 7, 49, 343, 2401, 16807),\n",
    "(8, 1, 8, 64, 512, 4096, 32768),\n",
    "(9, 1, 9, 81, 729, 6561, 59049),\n",
    "(10, 1, 10, 100, 1000, 10000, 100000)]"
   ]
  },
  {
   "cell_type": "code",
   "execution_count": 12,
   "metadata": {},
   "outputs": [
    {
     "name": "stdout",
     "output_type": "stream",
     "text": [
      "[(0, 1, 0, 0, 0, 0, 0), (1, 1, 1, 1, 1, 1, 1), (2, 1, 2, 4, 8, 16, 32), (3, 1, 3, 9, 27, 81, 243), (4, 1, 4, 16, 64, 256, 1024), (5, 1, 5, 25, 125, 625, 3125), (6, 1, 6, 36, 216, 1296, 7776), (7, 1, 7, 49, 343, 2401, 16807), (8, 1, 8, 64, 512, 4096, 32768), (9, 1, 9, 81, 729, 6561, 59049), (10, 1, 10, 100, 1000, 10000, 100000)]\n"
     ]
    }
   ],
   "source": [
    "result = [(x, 1, x, x**2, x**3, x**4, x**5) for x in range(11)]\n",
    "print(result)"
   ]
  },
  {
   "cell_type": "markdown",
   "metadata": {},
   "source": [
    "## 4. Flatten the following list to a new list:\n",
    "```python\n",
    "countries = [[('Finland', 'Helsinki')], [('Sweden', 'Stockholm')], [('Norway', 'Oslo')]]\n",
    "\n",
    "output:\n",
    "[['FINLAND','FIN', 'HELSINKI'], ['SWEDEN', 'SWE', 'STOCKHOLM'], ['NORWAY', 'NOR', 'OSLO']]"
   ]
  },
  {
   "cell_type": "code",
   "execution_count": 14,
   "metadata": {},
   "outputs": [
    {
     "name": "stdout",
     "output_type": "stream",
     "text": [
      "[['FINLAND', 'FIN', 'Helsinki'], ['SWEDEN', 'SWE', 'Stockholm'], ['NORWAY', 'NOR', 'Oslo']]\n"
     ]
    }
   ],
   "source": [
    "countries = [[('Finland', 'Helsinki')], [('Sweden', 'Stockholm')], [('Norway', 'Oslo')]]\n",
    "\n",
    "flattened_countries = [\n",
    "    [country.upper(), country[:3].upper(), capital] \n",
    "    for sublist in countries \n",
    "    for country, capital in sublist \n",
    "]\n",
    "\n",
    "print(flattened_countries)"
   ]
  },
  {
   "cell_type": "markdown",
   "metadata": {},
   "source": [
    "## 5. Change the following list to a list of dictionaries:\n",
    "``` python\n",
    "countries = [[('Finland', 'Helsinki')], [('Sweden', 'Stockholm')], [('Norway', 'Oslo')]]\n",
    "\n",
    "output:\n",
    "[{'country': 'FINLAND', 'city': 'HELSINKI'},\n",
    "{'country': 'SWEDEN', 'city': 'STOCKHOLM'},\n",
    "{'country': 'NORWAY', 'city': 'OSLO'}]"
   ]
  },
  {
   "cell_type": "code",
   "execution_count": 19,
   "metadata": {},
   "outputs": [
    {
     "name": "stdout",
     "output_type": "stream",
     "text": [
      "[{'Country': 'FINLAND', 'City': 'HELSINKI'}, {'Country': 'SWEDEN', 'City': 'STOCKHOLM'}, {'Country': 'NORWAY', 'City': 'OSLO'}]\n"
     ]
    }
   ],
   "source": [
    "countries = [[('Finland', 'Helsinki')], [('Sweden', 'Stockholm')], [('Norway', 'Oslo')]]\n",
    "\n",
    "countries_to_a_list_of_dictionaries = [\n",
    "    {\"Country\": country.upper(), \"City\": city.upper()}\n",
    "    for sublist in countries \n",
    "    for country, city in sublist \n",
    "]\n",
    "\n",
    "print(countries_to_a_list_of_dictionaries)"
   ]
  },
  {
   "cell_type": "markdown",
   "metadata": {},
   "source": [
    "## 6. Change the following list of lists to a list of concatenated strings:\n",
    "```python\n",
    "names = [[('Asabeneh', 'Yetayeh')], [('David', 'Smith')], [('Donald', 'Trump')], [('Bill', 'Gates')]]\n",
    "output\n",
    "['Asabeneh Yetaeyeh', 'David Smith', 'Donald Trump', 'Bill Gates']"
   ]
  },
  {
   "cell_type": "code",
   "execution_count": 24,
   "metadata": {},
   "outputs": [
    {
     "name": "stdout",
     "output_type": "stream",
     "text": [
      "['Asabeneh Yetayeh', 'David Smith', 'Donald Trump', 'Bill Gates']\n"
     ]
    }
   ],
   "source": [
    "names = [[('Asabeneh', 'Yetayeh')], [('David', 'Smith')], [('Donald', 'Trump')], [('Bill', 'Gates')]]\n",
    "concatenated_names = [' '.join(name[0]) for name in names]\n",
    "\n",
    "print(concatenated_names)"
   ]
  },
  {
   "cell_type": "code",
   "execution_count": null,
   "metadata": {},
   "outputs": [],
   "source": []
  }
 ],
 "metadata": {
  "kernelspec": {
   "display_name": "base",
   "language": "python",
   "name": "python3"
  },
  "language_info": {
   "codemirror_mode": {
    "name": "ipython",
    "version": 3
   },
   "file_extension": ".py",
   "mimetype": "text/x-python",
   "name": "python",
   "nbconvert_exporter": "python",
   "pygments_lexer": "ipython3",
   "version": "3.12.4"
  }
 },
 "nbformat": 4,
 "nbformat_minor": 2
}
