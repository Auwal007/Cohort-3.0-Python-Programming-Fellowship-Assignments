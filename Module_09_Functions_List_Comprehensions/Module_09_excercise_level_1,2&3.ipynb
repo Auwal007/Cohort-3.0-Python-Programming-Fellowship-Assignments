{
 "cells": [
  {
   "cell_type": "markdown",
   "metadata": {},
   "source": [
    "#  Module 9 Assigment: Level 1\n",
    "\n"
   ]
  },
  {
   "cell_type": "markdown",
   "metadata": {},
   "source": [
    "## 1. Declare a function add_two_numbers. It takes two parameters and it returns a sum.\n"
   ]
  },
  {
   "cell_type": "code",
   "execution_count": 1,
   "metadata": {},
   "outputs": [
    {
     "data": {
      "text/plain": [
       "9"
      ]
     },
     "execution_count": 1,
     "metadata": {},
     "output_type": "execute_result"
    }
   ],
   "source": [
    "def add_two_numbers(a,b): \n",
    "    return a+b \n",
    "add_two_numbers(4,5)"
   ]
  },
  {
   "cell_type": "markdown",
   "metadata": {},
   "source": [
    "## 2. Area of a circle is calculated as follows: area = π x r x r. Write a function that calculates area_of_circle.\n"
   ]
  },
  {
   "cell_type": "code",
   "execution_count": 8,
   "metadata": {},
   "outputs": [
    {
     "data": {
      "text/plain": [
       "78.5"
      ]
     },
     "execution_count": 8,
     "metadata": {},
     "output_type": "execute_result"
    }
   ],
   "source": [
    "def area_of_circle(pi, radius):\n",
    "    area = pi*radius*radius\n",
    "    return area\n",
    "area_of_circle(3.14, 5)\n"
   ]
  },
  {
   "cell_type": "markdown",
   "metadata": {},
   "source": [
    "## 3. Write a function called add_all_nums which takes arbitrary number of arguments and sums all the arguments. Check if all the list items are number types. If not do give a reasonable feedback.\n"
   ]
  },
  {
   "cell_type": "code",
   "execution_count": 14,
   "metadata": {},
   "outputs": [
    {
     "data": {
      "text/plain": [
       "55"
      ]
     },
     "execution_count": 14,
     "metadata": {},
     "output_type": "execute_result"
    }
   ],
   "source": [
    "def add_all_nums(*args):\n",
    "    \"\"\"Sum all the arguments if they are numbers. Provide feedback if not.\"\"\"\n",
    "    # Check if all arguments are numbers\n",
    "    if all(isinstance(arg, (int, float)) for arg in args):\n",
    "        return sum(args)\n",
    "    else:\n",
    "        return \"Error: All arguments must be integers or floats.\"\n",
    "add_all_nums(1,2,3,4,5,6,7,8,9,10,)\n"
   ]
  }
 ],
 "metadata": {
  "kernelspec": {
   "display_name": "base",
   "language": "python",
   "name": "python3"
  },
  "language_info": {
   "codemirror_mode": {
    "name": "ipython",
    "version": 3
   },
   "file_extension": ".py",
   "mimetype": "text/x-python",
   "name": "python",
   "nbconvert_exporter": "python",
   "pygments_lexer": "ipython3",
   "version": "3.12.4"
  }
 },
 "nbformat": 4,
 "nbformat_minor": 2
}
