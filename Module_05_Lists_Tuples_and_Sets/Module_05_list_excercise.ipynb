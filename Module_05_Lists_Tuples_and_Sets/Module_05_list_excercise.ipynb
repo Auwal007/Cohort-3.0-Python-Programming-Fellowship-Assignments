{
 "cells": [
  {
   "cell_type": "markdown",
   "metadata": {},
   "source": [
    "#  Module 5 List Assigment: Level 1 and 2"
   ]
  },
  {
   "cell_type": "markdown",
   "metadata": {},
   "source": [
    "# *Level 1*"
   ]
  },
  {
   "cell_type": "markdown",
   "metadata": {
    "vscode": {
     "languageId": "plaintext"
    }
   },
   "source": [
    "## 1. Declare an empty list"
   ]
  },
  {
   "cell_type": "code",
   "execution_count": 106,
   "metadata": {},
   "outputs": [
    {
     "name": "stdout",
     "output_type": "stream",
     "text": [
      "[]\n"
     ]
    }
   ],
   "source": [
    "empty_list = []\n",
    "print(empty_list)"
   ]
  },
  {
   "cell_type": "markdown",
   "metadata": {},
   "source": [
    "## 2. Declare a list with more than 5 items\n"
   ]
  },
  {
   "cell_type": "code",
   "execution_count": 107,
   "metadata": {},
   "outputs": [
    {
     "name": "stdout",
     "output_type": "stream",
     "text": [
      "[1, 2, 3, 4, 5, 6]\n"
     ]
    }
   ],
   "source": [
    "my_list = [1, 2, 3, 4, 5, 6]\n",
    "print(my_list)"
   ]
  },
  {
   "cell_type": "markdown",
   "metadata": {},
   "source": [
    "## 3. Find the length of your list"
   ]
  },
  {
   "cell_type": "code",
   "execution_count": 108,
   "metadata": {},
   "outputs": [
    {
     "name": "stdout",
     "output_type": "stream",
     "text": [
      "6\n"
     ]
    }
   ],
   "source": [
    "print(len(my_list))"
   ]
  },
  {
   "cell_type": "markdown",
   "metadata": {},
   "source": [
    "## 4. Get the first item, the middle item, and the last item of the list\n",
    "\n"
   ]
  },
  {
   "cell_type": "code",
   "execution_count": 109,
   "metadata": {},
   "outputs": [
    {
     "name": "stdout",
     "output_type": "stream",
     "text": [
      "1\n",
      "4\n",
      "6\n"
     ]
    }
   ],
   "source": [
    "print(my_list[0])  # First item\n",
    "print(my_list[len(my_list) // 2])  # Middle item\n",
    "print(my_list[-1])  # Last item"
   ]
  },
  {
   "cell_type": "markdown",
   "metadata": {},
   "source": [
    "## 5. Declare a list called mixed_data_types with (name, age, height, marital status, address).\n"
   ]
  },
  {
   "cell_type": "code",
   "execution_count": 110,
   "metadata": {},
   "outputs": [
    {
     "name": "stdout",
     "output_type": "stream",
     "text": [
      "['Auwal', 22, 5.8, 'Single', 'Nigeria']\n"
     ]
    }
   ],
   "source": [
    "mixed_data_types = [\"Auwal\", 22, 5.8, \"Single\", \"Nigeria\"]\n",
    "print(mixed_data_types)"
   ]
  },
  {
   "cell_type": "markdown",
   "metadata": {},
   "source": [
    "## 6. Declare a list variable named it_companies and assign initial values Facebook, Google, Microsoft, Apple, IBM, Oracle and Amazon.\n"
   ]
  },
  {
   "cell_type": "code",
   "execution_count": 111,
   "metadata": {},
   "outputs": [
    {
     "name": "stdout",
     "output_type": "stream",
     "text": [
      "['Facebook', 'Google', 'Microsoft', 'Apple', 'IBM', 'Oracle', 'Amazon']\n"
     ]
    }
   ],
   "source": [
    "it_companies = [\"Facebook\", \"Google\", \"Microsoft\", \"Apple\", \"IBM\", \"Oracle\", \"Amazon\"]\n",
    "print(it_companies)"
   ]
  },
  {
   "cell_type": "markdown",
   "metadata": {},
   "source": [
    "## 7. Print the list using print()\n"
   ]
  },
  {
   "cell_type": "code",
   "execution_count": null,
   "metadata": {},
   "outputs": [
    {
     "name": "stdout",
     "output_type": "stream",
     "text": [
      "['Facebook', 'Google', 'Microsoft', 'Apple', 'IBM', 'Oracle', 'Amazon']\n"
     ]
    }
   ],
   "source": [
    "print(it_companies) "
   ]
  },
  {
   "cell_type": "markdown",
   "metadata": {},
   "source": [
    "## 8. Print the number of companies in the list."
   ]
  },
  {
   "cell_type": "code",
   "execution_count": 113,
   "metadata": {},
   "outputs": [
    {
     "name": "stdout",
     "output_type": "stream",
     "text": [
      "7\n"
     ]
    }
   ],
   "source": [
    "print(len(it_companies))"
   ]
  },
  {
   "cell_type": "markdown",
   "metadata": {},
   "source": [
    "## 9. Print the first, middle, and last company.\n"
   ]
  },
  {
   "cell_type": "code",
   "execution_count": 114,
   "metadata": {},
   "outputs": [
    {
     "name": "stdout",
     "output_type": "stream",
     "text": [
      "Facebook\n",
      "Apple\n",
      "Amazon\n"
     ]
    }
   ],
   "source": [
    "print(it_companies[0])  \n",
    "print(it_companies[len(it_companies) // 2])\n",
    "print(it_companies[-1]) "
   ]
  },
  {
   "cell_type": "markdown",
   "metadata": {},
   "source": [
    "## 10. Print the list after modifying one of the companies."
   ]
  },
  {
   "cell_type": "code",
   "execution_count": 115,
   "metadata": {},
   "outputs": [
    {
     "name": "stdout",
     "output_type": "stream",
     "text": [
      "['Jumia', 'Google', 'Microsoft', 'Apple', 'IBM', 'Oracle', 'Amazon']\n"
     ]
    }
   ],
   "source": [
    "it_companies[0] = \"Jumia\"\n",
    "print(it_companies)"
   ]
  },
  {
   "cell_type": "markdown",
   "metadata": {},
   "source": [
    "## 11. Add an IT company to it_companies.\n"
   ]
  },
  {
   "cell_type": "code",
   "execution_count": 116,
   "metadata": {},
   "outputs": [
    {
     "name": "stdout",
     "output_type": "stream",
     "text": [
      "['Jumia', 'Google', 'Microsoft', 'Apple', 'IBM', 'Oracle', 'Amazon', 'Tesla']\n"
     ]
    }
   ],
   "source": [
    "it_companies.append(\"Tesla\")\n",
    "print(it_companies)"
   ]
  },
  {
   "cell_type": "markdown",
   "metadata": {},
   "source": [
    "## 12. Insert an IT company in the middle of the companies list"
   ]
  },
  {
   "cell_type": "code",
   "execution_count": 117,
   "metadata": {},
   "outputs": [
    {
     "name": "stdout",
     "output_type": "stream",
     "text": [
      "['Jumia', 'Google', 'Microsoft', 'Apple', 'Paystack', 'IBM', 'Oracle', 'Amazon', 'Tesla']\n"
     ]
    }
   ],
   "source": [
    "it_companies.insert(len(it_companies) // 2, \"Paystack\")\n",
    "print(it_companies)"
   ]
  },
  {
   "cell_type": "markdown",
   "metadata": {},
   "source": [
    "## 13. Change one of the it_companies names to uppercase (excluding IBM)."
   ]
  },
  {
   "cell_type": "code",
   "execution_count": 118,
   "metadata": {},
   "outputs": [
    {
     "name": "stdout",
     "output_type": "stream",
     "text": [
      "['Jumia', 'GOOGLE', 'Microsoft', 'Apple', 'Paystack', 'IBM', 'Oracle', 'Amazon', 'Tesla']\n"
     ]
    }
   ],
   "source": [
    "it_companies[1] = it_companies[1].upper() \n",
    "print(it_companies)"
   ]
  },
  {
   "cell_type": "markdown",
   "metadata": {},
   "source": [
    "## 14. Join the it_companies with a string '#;  '\n",
    "\n"
   ]
  },
  {
   "cell_type": "code",
   "execution_count": 119,
   "metadata": {},
   "outputs": [
    {
     "name": "stdout",
     "output_type": "stream",
     "text": [
      "Jumia#;  GOOGLE#;  Microsoft#;  Apple#;  Paystack#;  IBM#;  Oracle#;  Amazon#;  Tesla\n"
     ]
    }
   ],
   "source": [
    "joined_companies = '#;  '.join(it_companies)\n",
    "print(joined_companies)"
   ]
  },
  {
   "cell_type": "markdown",
   "metadata": {},
   "source": [
    "## 15. Check if a certain company exists in the it_companies list.\n"
   ]
  },
  {
   "cell_type": "code",
   "execution_count": 120,
   "metadata": {},
   "outputs": [
    {
     "name": "stdout",
     "output_type": "stream",
     "text": [
      "True\n",
      "False\n"
     ]
    }
   ],
   "source": [
    "print(\"Jumia\" in it_companies) \n",
    "print(\"Meta\" in it_companies) # Check for 'Meta'"
   ]
  },
  {
   "cell_type": "markdown",
   "metadata": {},
   "source": [
    "## 16. Sort the list using sort() method\n"
   ]
  },
  {
   "cell_type": "code",
   "execution_count": 121,
   "metadata": {},
   "outputs": [
    {
     "name": "stdout",
     "output_type": "stream",
     "text": [
      "['Amazon', 'Apple', 'GOOGLE', 'IBM', 'Jumia', 'Microsoft', 'Oracle', 'Paystack', 'Tesla']\n"
     ]
    }
   ],
   "source": [
    "it_companies.sort()\n",
    "print(it_companies)"
   ]
  },
  {
   "cell_type": "markdown",
   "metadata": {},
   "source": [
    "## 17. Reverse the list in descending order using reverse() method."
   ]
  },
  {
   "cell_type": "code",
   "execution_count": 122,
   "metadata": {},
   "outputs": [
    {
     "name": "stdout",
     "output_type": "stream",
     "text": [
      "['Tesla', 'Paystack', 'Oracle', 'Microsoft', 'Jumia', 'IBM', 'GOOGLE', 'Apple', 'Amazon']\n"
     ]
    }
   ],
   "source": [
    "it_companies.reverse()\n",
    "print(it_companies)"
   ]
  },
  {
   "cell_type": "markdown",
   "metadata": {},
   "source": [
    "## 18. Slice out the first 3 companies from the list."
   ]
  },
  {
   "cell_type": "code",
   "execution_count": 123,
   "metadata": {},
   "outputs": [
    {
     "name": "stdout",
     "output_type": "stream",
     "text": [
      "['Tesla', 'Paystack', 'Oracle']\n"
     ]
    }
   ],
   "source": [
    "print(it_companies[:3])"
   ]
  },
  {
   "cell_type": "markdown",
   "metadata": {},
   "source": [
    "## 19. Slice out the last 3 companies from the list."
   ]
  },
  {
   "cell_type": "code",
   "execution_count": 124,
   "metadata": {},
   "outputs": [
    {
     "name": "stdout",
     "output_type": "stream",
     "text": [
      "['GOOGLE', 'Apple', 'Amazon']\n"
     ]
    }
   ],
   "source": [
    "print(it_companies[-3:])\n"
   ]
  },
  {
   "cell_type": "markdown",
   "metadata": {},
   "source": [
    "## 20. Slice out the middle IT company or companies from the list.\n"
   ]
  },
  {
   "cell_type": "code",
   "execution_count": 125,
   "metadata": {},
   "outputs": [
    {
     "name": "stdout",
     "output_type": "stream",
     "text": [
      "['Jumia']\n",
      "['Jumia']\n"
     ]
    }
   ],
   "source": [
    "middle = len(it_companies) // 2\n",
    "# # Slice out the midddle company using traditional if and else statement.\n",
    "if len(it_companies) % 2 != 0:\n",
    "    print(it_companies[middle:middle + 1])\n",
    "else:\n",
    "    print(it_companies[middle - 1:middle + 1])\n",
    "\n",
    "# Slice out the midddle company using ternary operator.\n",
    "print(it_companies[middle:middle + 1] if len(it_companies) % 2 != 0 else it_companies[middle - 1:middle + 1])"
   ]
  },
  {
   "cell_type": "markdown",
   "metadata": {},
   "source": [
    "# 21. Remove the first IT company from the list."
   ]
  },
  {
   "cell_type": "code",
   "execution_count": 126,
   "metadata": {},
   "outputs": [
    {
     "name": "stdout",
     "output_type": "stream",
     "text": [
      "['Paystack', 'Oracle', 'Microsoft', 'Jumia', 'IBM', 'GOOGLE', 'Apple', 'Amazon']\n"
     ]
    }
   ],
   "source": [
    "it_companies.pop(0)\n",
    "print(it_companies)"
   ]
  },
  {
   "cell_type": "markdown",
   "metadata": {},
   "source": [
    "## 22. Remove the middle IT company or companies from the list.\n"
   ]
  },
  {
   "cell_type": "code",
   "execution_count": 127,
   "metadata": {},
   "outputs": [
    {
     "name": "stdout",
     "output_type": "stream",
     "text": [
      "['Paystack', 'Oracle', 'Microsoft', 'Jumia', 'GOOGLE', 'Apple', 'Amazon']\n"
     ]
    }
   ],
   "source": [
    "middle = len(it_companies) // 2\n",
    "del it_companies[middle]\n",
    "print(it_companies)"
   ]
  },
  {
   "cell_type": "markdown",
   "metadata": {},
   "source": [
    "## 23. Remove the last IT company from the list.\n"
   ]
  },
  {
   "cell_type": "code",
   "execution_count": 128,
   "metadata": {},
   "outputs": [
    {
     "name": "stdout",
     "output_type": "stream",
     "text": [
      "['Paystack', 'Oracle', 'Microsoft', 'Jumia', 'GOOGLE', 'Apple']\n"
     ]
    }
   ],
   "source": [
    "it_companies.pop()\n",
    "print(it_companies)"
   ]
  },
  {
   "cell_type": "markdown",
   "metadata": {},
   "source": [
    "## 24. Remove all IT companies from the list.\n"
   ]
  },
  {
   "cell_type": "code",
   "execution_count": 129,
   "metadata": {},
   "outputs": [
    {
     "name": "stdout",
     "output_type": "stream",
     "text": [
      "[]\n"
     ]
    }
   ],
   "source": [
    "it_companies.clear()\n",
    "print(it_companies)"
   ]
  },
  {
   "cell_type": "markdown",
   "metadata": {},
   "source": [
    "## 25. Destroy the IT companies list.\n"
   ]
  },
  {
   "cell_type": "code",
   "execution_count": 130,
   "metadata": {},
   "outputs": [],
   "source": [
    "del it_companies"
   ]
  },
  {
   "cell_type": "markdown",
   "metadata": {},
   "source": [
    "## 26. Join the following lists.\n"
   ]
  },
  {
   "cell_type": "code",
   "execution_count": 131,
   "metadata": {},
   "outputs": [
    {
     "name": "stdout",
     "output_type": "stream",
     "text": [
      "['HTML', 'CSS', 'JS', 'React', 'Redux', 'Node', 'Express', 'MongoDB']\n"
     ]
    }
   ],
   "source": [
    "front_end = ['HTML', 'CSS', 'JS', 'React', 'Redux']\n",
    "back_end = ['Node', 'Express', 'MongoDB']\n",
    "joined_list = front_end + back_end\n",
    "print(joined_list)"
   ]
  },
  {
   "cell_type": "markdown",
   "metadata": {},
   "source": [
    "## 27. Copy the joined list to a variable full_stack and insert Python and SQL after Redux."
   ]
  },
  {
   "cell_type": "code",
   "execution_count": 132,
   "metadata": {},
   "outputs": [
    {
     "name": "stdout",
     "output_type": "stream",
     "text": [
      "['HTML', 'CSS', 'JS', 'React', 'Redux', 'Python', 'SQL', 'Node', 'Express', 'MongoDB']\n"
     ]
    }
   ],
   "source": [
    "full_stack = joined_list[:]\n",
    "redux_index = full_stack.index(\"Redux\") + 1\n",
    "full_stack.insert(redux_index, \"Python\")\n",
    "full_stack.insert(redux_index + 1, \"SQL\")\n",
    "print(full_stack)"
   ]
  },
  {
   "cell_type": "markdown",
   "metadata": {},
   "source": [
    "# *Level 2*"
   ]
  },
  {
   "cell_type": "markdown",
   "metadata": {},
   "source": [
    "## 1. The following is a list of 10 students ages.\n",
    "\n",
    "``` bash\n",
    " ages =[19, 22, 19, 24, 20, 25, 26, 24, 25, 24]\n",
    " ```"
   ]
  },
  {
   "cell_type": "code",
   "execution_count": 2,
   "metadata": {},
   "outputs": [],
   "source": [
    "\n",
    "ages = [19, 22, 19, 24, 20, 25, 26, 24, 25, 24]"
   ]
  },
  {
   "cell_type": "markdown",
   "metadata": {},
   "source": [
    "### - Sort the list and find the min and max age"
   ]
  },
  {
   "cell_type": "code",
   "execution_count": 3,
   "metadata": {},
   "outputs": [
    {
     "name": "stdout",
     "output_type": "stream",
     "text": [
      "Sorted ages: [19, 19, 20, 22, 24, 24, 24, 25, 25, 26]\n",
      "Min age: 19\n",
      "Max age: 26\n"
     ]
    }
   ],
   "source": [
    "\n",
    "ages.sort()\n",
    "min_age = min(ages)\n",
    "max_age = max(ages)\n",
    "print(\"Sorted ages:\", ages)\n",
    "print(\"Min age:\", min_age)\n",
    "print(\"Max age:\", max_age)"
   ]
  },
  {
   "cell_type": "markdown",
   "metadata": {},
   "source": [
    "### - Add the min age and the max age again to the list\n"
   ]
  },
  {
   "cell_type": "code",
   "execution_count": 4,
   "metadata": {},
   "outputs": [
    {
     "name": "stdout",
     "output_type": "stream",
     "text": [
      "Updated ages: [19, 19, 20, 22, 24, 24, 24, 25, 25, 26, 19, 26]\n"
     ]
    }
   ],
   "source": [
    "ages.extend([min_age, max_age])\n",
    "print(\"Updated ages:\", ages)\n"
   ]
  },
  {
   "cell_type": "markdown",
   "metadata": {},
   "source": [
    "### - Find the median age (one middle item or two middle items divided by two)\n"
   ]
  },
  {
   "cell_type": "code",
   "execution_count": 5,
   "metadata": {},
   "outputs": [
    {
     "name": "stdout",
     "output_type": "stream",
     "text": [
      "Median age: 24.0\n"
     ]
    }
   ],
   "source": [
    "ages.sort() # sorted the age list.\n",
    "n = len(ages)\n",
    "if n % 2 == 0:\n",
    "    median_age = (ages[n // 2 - 1] + ages[n // 2]) / 2\n",
    "else:\n",
    "    median_age = ages[n // 2]\n",
    "print(\"Median age:\", median_age)\n"
   ]
  },
  {
   "cell_type": "markdown",
   "metadata": {},
   "source": [
    "### - Find the average age (sum of all items divided by their number )\n"
   ]
  },
  {
   "cell_type": "code",
   "execution_count": 6,
   "metadata": {},
   "outputs": [
    {
     "name": "stdout",
     "output_type": "stream",
     "text": [
      "Average age = 22.75\n"
     ]
    }
   ],
   "source": [
    "average_age = sum(ages) / len(ages)\n",
    "print(\"Average age =\", average_age)"
   ]
  },
  {
   "cell_type": "markdown",
   "metadata": {},
   "source": [
    "### - Find the range of the ages (max minus min)\n"
   ]
  },
  {
   "cell_type": "code",
   "execution_count": 8,
   "metadata": {},
   "outputs": [
    {
     "name": "stdout",
     "output_type": "stream",
     "text": [
      "Age range is ; 7\n"
     ]
    }
   ],
   "source": [
    "range = max_age - min_age\n",
    "print(f\"Age range is ; {range}\")"
   ]
  },
  {
   "cell_type": "markdown",
   "metadata": {},
   "source": [
    "### - Compare the value of (min - average) and (max - average), use abs() method\n"
   ]
  },
  {
   "cell_type": "code",
   "execution_count": 9,
   "metadata": {},
   "outputs": [
    {
     "name": "stdout",
     "output_type": "stream",
     "text": [
      "Min - Average: 3.75\n",
      "Max - Average: 3.25\n"
     ]
    }
   ],
   "source": [
    "min_diff = abs(min_age - average_age)\n",
    "max_diff = abs(max_age - average_age)\n",
    "print(\"Min - Average:\", min_diff)\n",
    "print(\"Max - Average:\", max_diff)\n"
   ]
  },
  {
   "cell_type": "markdown",
   "metadata": {},
   "source": []
  },
  {
   "cell_type": "code",
   "execution_count": null,
   "metadata": {},
   "outputs": [
    {
     "name": "stdout",
     "output_type": "stream",
     "text": [
      "Sorted ages: [19, 19, 20, 22, 24, 24, 24, 25, 25, 26]\n",
      "Min age: 19\n",
      "Max age: 26\n"
     ]
    }
   ],
   "source": []
  },
  {
   "cell_type": "markdown",
   "metadata": {},
   "source": []
  }
 ],
 "metadata": {
  "kernelspec": {
   "display_name": "base",
   "language": "python",
   "name": "python3"
  },
  "language_info": {
   "codemirror_mode": {
    "name": "ipython",
    "version": 3
   },
   "file_extension": ".py",
   "mimetype": "text/x-python",
   "name": "python",
   "nbconvert_exporter": "python",
   "pygments_lexer": "ipython3",
   "version": "3.12.4"
  }
 },
 "nbformat": 4,
 "nbformat_minor": 2
}
