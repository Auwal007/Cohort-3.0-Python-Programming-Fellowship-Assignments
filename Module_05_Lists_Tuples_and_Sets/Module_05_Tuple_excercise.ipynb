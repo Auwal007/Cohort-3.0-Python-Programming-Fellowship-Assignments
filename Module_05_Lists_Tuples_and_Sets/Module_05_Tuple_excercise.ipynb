{
 "cells": [
  {
   "cell_type": "markdown",
   "metadata": {},
   "source": [
    "#  Module 5 Tuple Assigment: Level 1 and 2\n",
    "\n"
   ]
  }
 ],
 "metadata": {
  "language_info": {
   "name": "python"
  }
 },
 "nbformat": 4,
 "nbformat_minor": 2
}
