{
 "cells": [
  {
   "cell_type": "markdown",
   "metadata": {},
   "source": [
    "#  Module 6 Assigment"
   ]
  },
  {
   "cell_type": "markdown",
   "metadata": {},
   "source": [
    "## 1. Create an empty dictionary called dog."
   ]
  },
  {
   "cell_type": "code",
   "execution_count": 1,
   "metadata": {},
   "outputs": [],
   "source": [
    "dog = {}"
   ]
  },
  {
   "cell_type": "code",
   "execution_count": 2,
   "metadata": {},
   "outputs": [
    {
     "data": {
      "text/plain": [
       "dict"
      ]
     },
     "execution_count": 2,
     "metadata": {},
     "output_type": "execute_result"
    }
   ],
   "source": [
    "type(dog)"
   ]
  },
  {
   "cell_type": "markdown",
   "metadata": {},
   "source": [
    "## 2. Add name, color, breed, legs, age to the dog dictionary."
   ]
  },
  {
   "cell_type": "code",
   "execution_count": 3,
   "metadata": {},
   "outputs": [],
   "source": [
    "dog[\"Name\"] = \"Bingo\"\n",
    "dog[\"color\"] = \"blue\"\n",
    "dog[\"Breed\"] = \"African\"\n",
    "dog[\"Legs\"] = \"White\"\n",
    "dog[\"Age\"] = 3"
   ]
  },
  {
   "cell_type": "code",
   "execution_count": 4,
   "metadata": {},
   "outputs": [
    {
     "name": "stdout",
     "output_type": "stream",
     "text": [
      "{'Name': 'Bingo', 'color': 'blue', 'Breed': 'African', 'Legs': 'White', 'Age': 3}\n"
     ]
    }
   ],
   "source": [
    "len(dog)\n",
    "print(dog)"
   ]
  },
  {
   "cell_type": "markdown",
   "metadata": {},
   "source": [
    "## 3. Create a student dictionary and add first_name, last_name, gender, age, marital status, skills, country, city and address as keys for the dictionary."
   ]
  },
  {
   "cell_type": "code",
   "execution_count": 5,
   "metadata": {},
   "outputs": [],
   "source": [
    "student = {\n",
    "    \"first_name\": \"Muhammad\",\n",
    "    \"last_name\": \"Adam\",\n",
    "    \"gender\": \"Male\",\n",
    "    \"age\": 22,\n",
    "    \"marital_status\": \"Single\",\n",
    "    \"skills\": [\"Python\", \"Java\", \"SQL\"],\n",
    "    \"country\": \"Nigeria\",\n",
    "    \"city\": \"Jos\",\n",
    "    \"address\": \"Jos North\"\n",
    "}\n"
   ]
  },
  {
   "cell_type": "markdown",
   "metadata": {},
   "source": [
    "## 4. Get the length of the student dictionary.\n"
   ]
  },
  {
   "cell_type": "code",
   "execution_count": 6,
   "metadata": {},
   "outputs": [
    {
     "data": {
      "text/plain": [
       "9"
      ]
     },
     "execution_count": 6,
     "metadata": {},
     "output_type": "execute_result"
    }
   ],
   "source": [
    "len(student)"
   ]
  },
  {
   "cell_type": "markdown",
   "metadata": {},
   "source": [
    "## 5. Get the value of skills and check the data type, it should be a list."
   ]
  },
  {
   "cell_type": "code",
   "execution_count": 7,
   "metadata": {},
   "outputs": [
    {
     "name": "stdout",
     "output_type": "stream",
     "text": [
      "['Python', 'Java', 'SQL']\n",
      "The data type of Skills is :  <class 'list'>\n"
     ]
    }
   ],
   "source": [
    "print(student[\"skills\"])\n",
    "print(f\"The data type of Skills is :  {type(student[\"skills\"])}\")"
   ]
  },
  {
   "cell_type": "markdown",
   "metadata": {},
   "source": [
    "## 6. Modify the skills values by adding one or two skills."
   ]
  },
  {
   "cell_type": "code",
   "execution_count": 8,
   "metadata": {},
   "outputs": [
    {
     "name": "stdout",
     "output_type": "stream",
     "text": [
      "['Python', 'Java', 'SQL']\n",
      "['Python', 'Java', 'SQL', 'HTML', 'CSS', 'JavaScript']\n"
     ]
    }
   ],
   "source": [
    "print(student[\"skills\"])\n",
    "student[\"skills\"].extend([\"HTML\", \"CSS\", \"JavaScript\"])\n",
    "print(student[\"skills\"])\n"
   ]
  }
 ],
 "metadata": {
  "kernelspec": {
   "display_name": "base",
   "language": "python",
   "name": "python3"
  },
  "language_info": {
   "codemirror_mode": {
    "name": "ipython",
    "version": 3
   },
   "file_extension": ".py",
   "mimetype": "text/x-python",
   "name": "python",
   "nbconvert_exporter": "python",
   "pygments_lexer": "ipython3",
   "version": "3.12.4"
  }
 },
 "nbformat": 4,
 "nbformat_minor": 2
}
