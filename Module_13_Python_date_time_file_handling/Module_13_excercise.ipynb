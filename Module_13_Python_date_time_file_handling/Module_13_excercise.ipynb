{
 "cells": [
  {
   "cell_type": "markdown",
   "metadata": {
    "vscode": {
     "languageId": "plaintext"
    }
   },
   "source": [
    "#  Module 13 Assigment: Level 1\n",
    "\n"
   ]
  },
  {
   "cell_type": "markdown",
   "metadata": {},
   "source": [
    "## 💻 Python Datetime Exercises\n"
   ]
  },
  {
   "cell_type": "markdown",
   "metadata": {},
   "source": [
    "## 1. Get the current day, month, year, hour, minute and timestamp from datetime module."
   ]
  },
  {
   "cell_type": "code",
   "execution_count": 7,
   "metadata": {},
   "outputs": [
    {
     "name": "stdout",
     "output_type": "stream",
     "text": [
      "2025-01-22 11:42:51.025500\n"
     ]
    }
   ],
   "source": [
    "from datetime import datetime\n",
    "now = datetime.now()\n",
    "print(now)                      # 2021-07-08 07:34:46.549883\n"
   ]
  },
  {
   "cell_type": "markdown",
   "metadata": {},
   "source": [
    "## 2. Format the current date using this format: \"%m/%d/%Y, %H:%M:%S\")\n"
   ]
  },
  {
   "cell_type": "code",
   "execution_count": 12,
   "metadata": {},
   "outputs": [
    {
     "name": "stdout",
     "output_type": "stream",
     "text": [
      "Date & time: 01/22/2025, 11:46:05\n"
     ]
    }
   ],
   "source": [
    "from datetime import datetime\n",
    "# current date and time\n",
    "now = datetime.now()\n",
    "time = now.strftime(\"%m/%d/%Y, %H:%M:%S\")\n",
    "# mm/dd/YY H:M:S format\n",
    "print(\"Date & time:\", time)"
   ]
  },
  {
   "cell_type": "markdown",
   "metadata": {},
   "source": [
    "## 3. Today is 5 December, 2019. Change this time string to time."
   ]
  },
  {
   "cell_type": "code",
   "execution_count": 16,
   "metadata": {},
   "outputs": [
    {
     "name": "stdout",
     "output_type": "stream",
     "text": [
      "2019-12-05 00:00:00\n"
     ]
    }
   ],
   "source": [
    "from datetime import datetime\n",
    "\n",
    "date_string = \"5 December, 2019\"\n",
    "\n",
    "date_object = datetime.strptime(date_string, \"%d %B, %Y\")\n",
    "\n",
    "print(date_object)\n"
   ]
  },
  {
   "cell_type": "markdown",
   "metadata": {},
   "source": [
    "## 4. Calculate the time difference between now and new year.\n"
   ]
  },
  {
   "cell_type": "code",
   "execution_count": 19,
   "metadata": {},
   "outputs": [
    {
     "name": "stdout",
     "output_type": "stream",
     "text": [
      "Time difference between now and new year: 346 days\n"
     ]
    }
   ],
   "source": [
    "from datetime import datetime\n",
    "\n",
    "current_date = datetime.strptime(\"20 January, 2025\", \"%d %B, %Y\")\n",
    "\n",
    "new_year_date = datetime.strptime(\"1 January, 2026\", \"%d %B, %Y\")\n",
    "\n",
    "time_difference = new_year_date - current_date\n",
    "\n",
    "print(f\"Time difference between now and new year: {time_difference.days} days\")\n"
   ]
  },
  {
   "cell_type": "markdown",
   "metadata": {},
   "source": [
    "## 5. Calculate the time difference between 1 January 1970 and now.\n"
   ]
  },
  {
   "cell_type": "code",
   "execution_count": 22,
   "metadata": {},
   "outputs": [
    {
     "name": "stdout",
     "output_type": "stream",
     "text": [
      "Time difference between 1970 and now: 20110 days\n"
     ]
    }
   ],
   "source": [
    "old_date = datetime.strptime(\"1 January, 1970\", \"%d %B, %Y\")\n",
    "\n",
    "current_date = datetime.now()\n",
    "time_difference = current_date - old_date\n",
    "\n",
    "print(f\"Time difference between 1970 and now: {time_difference.days} days\")"
   ]
  },
  {
   "cell_type": "markdown",
   "metadata": {},
   "source": [
    "## 6. Think, what can you use the datetime module for? Examples:\n",
    "- ### Time series analysis\n",
    "- ### To get a timestamp of any activities in an application\n",
    "- ### Adding posts on a blog"
   ]
  },
  {
   "cell_type": "markdown",
   "metadata": {},
   "source": [
    "The `datetime` module is a powerful tool in Python for working with dates and times. Here are various practical use cases beyond the examples you provided:\n",
    "\n",
    "### 1. **Time Series Analysis**\n",
    "   - **Use Case**: Analyzing stock prices, weather data, or sensor readings over time.\n",
    "   - **Example**: Using `datetime` to parse time data and index data frames for financial analysis.\n",
    "\n",
    "### 2. **Timestamps for Logging Activities**\n",
    "   - **Use Case**: Tracking user actions, system events, or debugging logs.\n",
    "   - **Example**:  \n",
    "     ```python\n",
    "     from datetime import datetime\n",
    "     log_time = datetime.now()\n",
    "     print(f\"User logged in at {log_time}\")\n",
    "     ```\n",
    "\n",
    "### 3. **Scheduling and Notifications**\n",
    "   - **Use Case**: Building alarms, reminders, or task schedulers.\n",
    "   - **Example**: Checking if a task is due and sending a reminder.\n",
    "\n",
    "### 4. **Data Expiration and Validity Checking**\n",
    "   - **Use Case**: Managing limited-time offers, subscriptions, or access tokens.\n",
    "   - **Example**: Comparing the current date with an expiry date.\n",
    "\n",
    "### 5. **Calculating Age or Duration**\n",
    "   - **Use Case**: Finding the age of a person or duration of an event.\n",
    "   - **Example**:  \n",
    "     ```python\n",
    "     birth_date = datetime(2000, 5, 10)\n",
    "     current_date = datetime.now()\n",
    "     age = (current_date - birth_date).days // 365\n",
    "     print(f\"Age: {age} years\")\n",
    "     ```\n",
    "\n",
    "### 6. **Date-Based Filenames or Backup Systems**\n",
    "   - **Use Case**: Naming backups or logs with timestamps.\n",
    "   - **Example**:  \n",
    "     ```python\n",
    "     filename = f\"backup_{datetime.now().strftime('%Y%m%d_%H%M%S')}.zip\"\n",
    "     ```\n",
    "\n",
    "### 7. **Expiration Reminder for Online Stores**\n",
    "   - **Use Case**: Sending notifications for cart expiration or flash sales.\n",
    "\n",
    "### 8. **Analytics on Blog or Website Posts**\n",
    "   - **Use Case**: Sorting and filtering posts by date, or finding the most popular post in a time frame.\n",
    "\n",
    "### 9. **Event Countdown or Progress Tracking**\n",
    "   - **Use Case**: Countdown to a product launch, event, or holiday.\n",
    "\n",
    "### 10. **Time Zone and Localization Handling**\n",
    "   - **Use Case**: Supporting users from different time zones by converting to local time using `pytz`.\n",
    "\n",
    "These examples demonstrate how `datetime` empowers applications to manage and manipulate time effectively, making it crucial for real-world programming solutions."
   ]
  },
  {
   "cell_type": "markdown",
   "metadata": {},
   "source": [
    "# 💻 File Handling Exercises:\n"
   ]
  },
  {
   "cell_type": "markdown",
   "metadata": {},
   "source": [
    "## Exercises: Level 1"
   ]
  },
  {
   "cell_type": "markdown",
   "metadata": {},
   "source": [
    "## 1. Write a function which count number of lines and number of words in a text. All the files are in the data the folder: a) Read obama_speech.txt file and count number of lines and words b) Read michelle_obama_speech.txt file and count number of lines and words c) Read donald_speech.txt file and count number of lines and words d) Read melina_trump_speech.txt file and count number of lines and words\n",
    "\n"
   ]
  },
  {
   "cell_type": "code",
   "execution_count": 40,
   "metadata": {},
   "outputs": [
    {
     "name": "stdout",
     "output_type": "stream",
     "text": [
      "File: obama_speech.txt\n",
      "Number of lines: 66\n",
      "Number of words: 2400\n",
      "\n",
      "File: michelle_obama_speech.txt\n",
      "Number of lines: 83\n",
      "Number of words: 2204\n",
      "\n",
      "File: donald_speech.txt\n",
      "Number of lines: 48\n",
      "Number of words: 1259\n",
      "\n",
      "File: melina_trump_speech.txt\n",
      "Number of lines: 33\n",
      "Number of words: 1375\n",
      "\n"
     ]
    }
   ],
   "source": [
    "def count_lines_and_words(file_path):\n",
    "    try:\n",
    "        with open(file_path, 'r') as file:\n",
    "            lines = file.readlines()\n",
    "            number_of_lines = len(lines)\n",
    "            number_of_words = sum(len(line.split()) for line in lines)\n",
    "            return number_of_lines, number_of_words\n",
    "    except FileNotFoundError:\n",
    "        print(f\"Error: The file {file_path} was not found.\")\n",
    "        return 0, 0\n",
    "\n",
    "files = [\n",
    "    \"data/obama_speech.txt\",\n",
    "    \"data/michelle_obama_speech.txt\",\n",
    "    \"data/donald_speech.txt\",\n",
    "    \"data/melina_trump_speech.txt\"\n",
    "]\n",
    "\n",
    "for file_path in files:\n",
    "    lines, words = count_lines_and_words(file_path)\n",
    "    print(f\"File: {file_path[5:]}\")\n",
    "    print(f\"Number of lines: {lines}\")\n",
    "    print(f\"Number of words: {words}\\n\")\n"
   ]
  }
 ],
 "metadata": {
  "kernelspec": {
   "display_name": "base",
   "language": "python",
   "name": "python3"
  },
  "language_info": {
   "codemirror_mode": {
    "name": "ipython",
    "version": 3
   },
   "file_extension": ".py",
   "mimetype": "text/x-python",
   "name": "python",
   "nbconvert_exporter": "python",
   "pygments_lexer": "ipython3",
   "version": "3.12.4"
  }
 },
 "nbformat": 4,
 "nbformat_minor": 2
}
