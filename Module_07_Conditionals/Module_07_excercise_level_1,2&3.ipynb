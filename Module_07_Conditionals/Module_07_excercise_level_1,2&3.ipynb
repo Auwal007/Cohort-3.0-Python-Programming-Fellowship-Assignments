{
 "cells": [
  {
   "cell_type": "markdown",
   "metadata": {},
   "source": [
    "#  Module 7 Assigment: Level 1\n",
    "\n"
   ]
  },
  {
   "cell_type": "markdown",
   "metadata": {},
   "source": [
    "## 1. Get user input using input(“Enter your age: ”). If user is 18 or older, give feedback: You are old enough to drive. If below 18 give feedback to wait for the missing amount of years. Output:\n",
    "```\n",
    "Enter your age: 30\n",
    "You are old enough to learn to drive.\n",
    "Output:\n",
    "Enter your age: 15\n",
    "You need 3 more years to learn to drive.\n",
    "```"
   ]
  },
  {
   "cell_type": "code",
   "execution_count": 6,
   "metadata": {},
   "outputs": [
    {
     "name": "stdout",
     "output_type": "stream",
     "text": [
      "You need to for 6 more years to learn to drive\n"
     ]
    }
   ],
   "source": [
    "age = int(input(\"Enter your age\"))\n",
    "if age > 18:\n",
    "    print(\"You are old enough to learn to drive\")\n",
    "elif age < 18:\n",
    "    print(f\"You need to for {18-age} more years to learn to drive\")\n",
    "\n"
   ]
  },
  {
   "cell_type": "markdown",
   "metadata": {},
   "source": [
    "## 2. Compare the values of my_age and your_age using if … else. Who is older (me or you)? Use input(“Enter your age: ”) to get the age as input. You can use a nested condition to print 'year' for 1 year difference in age, 'years' for bigger differences, and a custom text if my_age = your_age. Output:\n",
    "\n",
    "```\n",
    "Enter your age: 30\n",
    "You are 5 years older than me.\n",
    "```"
   ]
  },
  {
   "cell_type": "code",
   "execution_count": 11,
   "metadata": {},
   "outputs": [
    {
     "name": "stdout",
     "output_type": "stream",
     "text": [
      "You are the same age as me.\n"
     ]
    }
   ],
   "source": [
    "my_age = 22\n",
    "your_age = int(input('Enter your age'))\n",
    "\n",
    "if my_age < your_age:\n",
    "    print(f'You are {your_age - my_age} years older than me.')\n",
    "\n",
    "elif my_age > your_age:\n",
    "    print(f'I am {my_age - your_age} years older than me.')\n",
    "\n",
    "else:\n",
    "    print('You are the same age as me.')"
   ]
  },
  {
   "cell_type": "markdown",
   "metadata": {},
   "source": [
    "## 3. Get two numbers from the user using input prompt. If a is greater than b return a is greater than b, if a is less b return a is smaller than b, else a is equal to b. Output:\n",
    "\n",
    "```\n",
    "Enter number one: 4\n",
    "Enter number two: 3\n",
    "4 is greater than 3\n",
    "```"
   ]
  },
  {
   "cell_type": "code",
   "execution_count": 12,
   "metadata": {},
   "outputs": [
    {
     "name": "stdout",
     "output_type": "stream",
     "text": [
      "4 is greater than 3\n"
     ]
    }
   ],
   "source": [
    "num1 = int(input('Enter number one: '))\n",
    "num2 = int(input('Enter number two: '))\n",
    "\n",
    "if num1 > num2:\n",
    "    print(f'{num1} is greater than {num2}')\n",
    "elif num1 < num2:\n",
    "    print(f'{num1} is smaller than {num2}')\n",
    "else:\n",
    "    print(f'{num1} is equal to {num2}')"
   ]
  },
  {
   "cell_type": "markdown",
   "metadata": {},
   "source": [
    "#  Module 7 Assigment: Level 2\n",
    "\n"
   ]
  },
  {
   "cell_type": "markdown",
   "metadata": {},
   "source": [
    "## 1. Write a code which gives grade to students according to theirs scores:\n",
    "```python\n",
    "80-100, A\n",
    "70-89, B\n",
    "60-69, C\n",
    "50-59, D\n",
    "0-49, F\n",
    "```"
   ]
  },
  {
   "cell_type": "code",
   "execution_count": 20,
   "metadata": {},
   "outputs": [
    {
     "name": "stdout",
     "output_type": "stream",
     "text": [
      "Your score is 30 and your grade is: F\n"
     ]
    }
   ],
   "source": [
    "score = int(input('Enter a grade'))\n",
    "\n",
    "if score >= 80 and score <= 100:\n",
    "    print(f'Your score is {score} and your grade is: A')\n",
    "elif score >= 70 and score <=89:\n",
    "    print(f'Your score is {score} and your grade is: B')\n",
    "elif score >= 60 and score <= 69:\n",
    "    print(f'Your score is {score} and your grade is: C')\n",
    "elif score >= 50 and score <= 59:\n",
    "    score(f'Your score is {grade} and your grade is: D')\n",
    "elif score >= 0 and score <=49:\n",
    "    print(f'Your score is {score} and your grade is: F')\n",
    "else:\n",
    "    print('Invalid grade! enter a grade between 0 and 100') \n"
   ]
  },
  {
   "cell_type": "markdown",
   "metadata": {},
   "source": [
    "## 2. Check if the season is Autumn, Winter, Spring or Summer. If the user input is: September, October or November, the season is Autumn. December, January or February, the season is Winter. March, April or May, the season is Spring June, July or August, the season is Summer.\n"
   ]
  },
  {
   "cell_type": "code",
   "execution_count": 21,
   "metadata": {},
   "outputs": [
    {
     "name": "stdout",
     "output_type": "stream",
     "text": [
      "The season is Summer.\n"
     ]
    }
   ],
   "source": [
    "month = input(\"Enter the name of the month: \").title()  \n",
    "\n",
    "if month in [\"September\", \"October\", \"November\"]:\n",
    "    print(\"The season is Autumn.\")\n",
    "elif month in [\"December\", \"January\", \"February\"]:\n",
    "    print(\"The season is Winter.\")\n",
    "elif month in [\"March\", \"April\", \"May\"]:\n",
    "    print(\"The season is Spring.\")\n",
    "elif month in [\"June\", \"July\", \"August\"]:\n",
    "    print(\"The season is Summer.\")\n",
    "else:\n",
    "    print(\"Please enter a valid month name.\")\n"
   ]
  },
  {
   "cell_type": "markdown",
   "metadata": {},
   "source": [
    "## 3. The following list contains some fruits:\n",
    "```sh\n",
    "fruits = ['banana', 'orange', 'mango', 'lemon']\n",
    "```\n",
    "\n",
    "### If a fruit doesn't exist in the list add the fruit to the list and print the modified list. If the fruit exists print('That fruit already exist in the list')"
   ]
  },
  {
   "cell_type": "code",
   "execution_count": 24,
   "metadata": {},
   "outputs": [
    {
     "name": "stdout",
     "output_type": "stream",
     "text": [
      "The fruit berry has been added to the list.\n",
      "['banana', 'orange', 'mango', 'lemon', 'berry']\n"
     ]
    }
   ],
   "source": [
    "\n",
    "fruits = ['banana', 'orange', 'mango', 'lemon']\n",
    "\n",
    "fruit = input(\"Enter a fruit: \").lower()\n",
    "\n",
    "if fruit not in fruits:\n",
    "    fruits.append(fruit)\n",
    "    print(f'The fruit {fruit} has been added to the list.')\n",
    "else:\n",
    "    print(\"That fruit already exists in the list.\")\n",
    "print(fruits)\n"
   ]
  },
  {
   "cell_type": "markdown",
   "metadata": {},
   "source": [
    "#  Module 7 Assigment: Level 3\n",
    "\n"
   ]
  },
  {
   "cell_type": "markdown",
   "metadata": {},
   "source": [
    "## 1. Here we have a person dictionary. Feel free to modify it!\n",
    "### **modified list**   \n",
    "\n",
    "    ```\n",
    "    *modified list*    \n",
    "    person={\n",
    "    'first_name': 'Muhammad',\n",
    "    'last_name': 'Adam',\n",
    "    'age': 22,\n",
    "    'country': 'Nigeia',\n",
    "    'is_marred': False,\n",
    "    'skills': ['JavaScript', 'React', 'Node', 'MongoDB', 'Python'],\n",
    "    'address': {'street': 'Space street','zipcode': '02210'}\n",
    "    }\n",
    "\n",
    "\n",
    " * Check if the person dictionary has skills key, if so print out the middle skill in the skills list.\n",
    " * Check if the person dictionary has skills key, if so check if the person has 'Python' skill and print out the result.\n",
    " * If a person skills has only JavaScript and React, print('He is a front end developer'), if the person skills has Node, Python, MongoDB, print('He is a backend developer'), if the person skills has React, Node and MongoDB, Print('He is a fullstack developer'), else print('unknown title') - for more accurate results more conditions can be nested!\n",
    " * If the person is married and if he lives in Finland, print the information in the following format:\n",
    "\n",
    "Muhammad Adam lives in Nigeria. He is not married.\n",
    "```\n",
    "\n",
    "    "
   ]
  },
  {
   "cell_type": "code",
   "execution_count": 41,
   "metadata": {},
   "outputs": [
    {
     "name": "stdout",
     "output_type": "stream",
     "text": [
      "Skills is present in person list\n",
      "Python is present in person skills\n",
      "He is a frontend developer.\n",
      "Muhammad Adam lives in Nigeia and he is not married\n"
     ]
    }
   ],
   "source": [
    "person={\n",
    "    'first_name': 'Muhammad',\n",
    "    'last_name': 'Adam',\n",
    "    'age': 22,\n",
    "    'country': 'Nigeia',\n",
    "    'is_married': False,\n",
    "    'skills': ['JavaScript', 'React', 'Node', 'MongoDB', 'Python'],\n",
    "    'address': {'street': 'Space street','zipcode': '02210'}\n",
    "}\n",
    "\n",
    "if 'skills' in person:\n",
    "    print(\"Skills is present in person list\")\n",
    "    if 'Python' in person['skills']:\n",
    "        print(\"Python is present in person skills\")\n",
    "    else:\n",
    "        print(\"Python is not present in person skills\")\n",
    "else:\n",
    "    print(\"Skills is not present in person list\")\n",
    "\n",
    "# Skills check\n",
    "\n",
    "if 'JavaScript' in person[\"skills\"] and 'React' in person[\"skills\"]:\n",
    "    print(\"He is a frontend developer.\")\n",
    "elif 'Python' in person[\"skills\"] and \"Node\" in person[\"skills\"] and \"MongoDB\" in person[\"skills\"]:\n",
    "    print(\"He is a backend developer.\")\n",
    "elif 'MongoDB' in person[\"skills\"] and \"Node\" in person[\"skills\"] and \"React\" in person[\"skills\"]:\n",
    "    print(\"He is a fullstack developer.\")\n",
    "else:\n",
    "    print(\"Unknown Title.\")\n",
    "\n",
    "marital_status = \"married\" if person['is_married'] else \"not married\"\n",
    "\n",
    "print(f\"{person['first_name']} {person['last_name']} lives in {person[\"country\"]} and he is {marital_status}\")"
   ]
  },
  {
   "cell_type": "code",
   "execution_count": null,
   "metadata": {},
   "outputs": [],
   "source": []
  }
 ],
 "metadata": {
  "kernelspec": {
   "display_name": "base",
   "language": "python",
   "name": "python3"
  },
  "language_info": {
   "codemirror_mode": {
    "name": "ipython",
    "version": 3
   },
   "file_extension": ".py",
   "mimetype": "text/x-python",
   "name": "python",
   "nbconvert_exporter": "python",
   "pygments_lexer": "ipython3",
   "version": "3.12.4"
  }
 },
 "nbformat": 4,
 "nbformat_minor": 2
}
