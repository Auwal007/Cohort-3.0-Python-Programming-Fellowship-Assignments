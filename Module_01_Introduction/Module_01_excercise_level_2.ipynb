{
 "cells": [
  {
   "cell_type": "markdown",
   "metadata": {},
   "source": [
    "#  Module 1 Assigment: Level 2\n"
   ]
  },
  {
   "cell_type": "markdown",
   "metadata": {},
   "source": [
    "## Create a folder named day_1 inside 30DaysOfPython folder. Inside day_1 folder, create a python file helloworld.py and repeat questions 1, 2, 3 and 4. Remember to use print() when you are working on a python file. Navigate to the directory where you have saved your file, and run it."
   ]
  },
  {
   "cell_type": "markdown",
   "metadata": {},
   "source": [
    "**Note:** As the assignment stated, the tasks in this level is the same as the task in [  Module 1 Assigment: Level 1\n",
    "]([URL](https://github.com/Auwal007/Cohort-3.0-Python-Programming-Fellowship-Assignments/blob/main/Module_01_Introduction/Module_01_excercise_level_1.ipynb)). So no need for duplication."
   ]
  }
 ],
 "metadata": {
  "language_info": {
   "name": "python"
  }
 },
 "nbformat": 4,
 "nbformat_minor": 2
}
