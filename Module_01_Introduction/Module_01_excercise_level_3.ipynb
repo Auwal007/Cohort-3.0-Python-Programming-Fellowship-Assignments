{
 "cells": [
  {
   "cell_type": "markdown",
   "metadata": {},
   "source": [
    "#  Module 1 Assigment: Level 3"
   ]
  },
  {
   "cell_type": "markdown",
   "metadata": {},
   "source": [
    "## 1. Write an example for different Python data types such as Number(Integer, Float, Complex), String, Boolean, List, Tuple, Set and Dictionary."
   ]
  },
  {
   "cell_type": "code",
   "execution_count": 1,
   "metadata": {},
   "outputs": [
    {
     "name": "stdout",
     "output_type": "stream",
     "text": [
      "Integer: 10\n",
      "Float: 3.14\n",
      "Complex: (2+3j)\n",
      "String: Hello, Arewa Data Science!\n",
      "Boolean: True\n",
      "List: [1, 2, 3, 'Python', 4.5]\n",
      "Tuple: (10, 20, 30, 'Tuple')\n",
      "Set: {1, 2, 3, 4, 5}\n",
      "Dictionary: {'name': 'John', 'age': 25, 'country': 'USA'}\n"
     ]
    }
   ],
   "source": [
    "# Number Data Types\n",
    "integer_example = 10  # Integer\n",
    "float_example = 3.14  # Float\n",
    "complex_example = 2 + 3j  # Complex number\n",
    "\n",
    "# String\n",
    "string_example = \"Hello, Arewa Data Science!\"\n",
    "\n",
    "# Boolean\n",
    "boolean_example = True  # Boolean (can also be False)\n",
    "\n",
    "# List containing diffrent types of values\n",
    "list_example = [1, 2, 3, \"Python\", 4.5]\n",
    "\n",
    "# Tuple\n",
    "tuple_example = (10, 20, 30, \"Tuple\")\n",
    "\n",
    "# Set\n",
    "set_example = {1, 2, 3, 4, 5}\n",
    "\n",
    "# Dictionary\n",
    "dict_example = {\"name\": \"John\", \"age\": 25, \"country\": \"USA\"}\n",
    "\n",
    "# Print examples\n",
    "print(\"Integer:\", integer_example)\n",
    "print(\"Float:\", float_example)\n",
    "print(\"Complex:\", complex_example)\n",
    "print(\"String:\", string_example)\n",
    "print(\"Boolean:\", boolean_example)\n",
    "print(\"List:\", list_example)\n",
    "print(\"Tuple:\", tuple_example)\n",
    "print(\"Set:\", set_example)\n",
    "print(\"Dictionary:\", dict_example)\n"
   ]
  },
  {
   "cell_type": "markdown",
   "metadata": {},
   "source": [
    "## 2. Find an Euclidian distance between (2, 3) and (10, 8)"
   ]
  },
  {
   "cell_type": "code",
   "execution_count": 3,
   "metadata": {},
   "outputs": [
    {
     "name": "stdout",
     "output_type": "stream",
     "text": [
      "Euclidean Distance between (2, 3) and (10, 8) is : 9.433981132056603\n"
     ]
    }
   ],
   "source": [
    "# Define the coordinates of the two points\n",
    "x1, y1 = 2, 3\n",
    "x2, y2 = 10, 8\n",
    "\n",
    "# Calculate the Euclidean distance\n",
    "euclidean_distance = ((x2 - x1)**2 + (y2 - y1)**2)**0.5\n",
    "\n",
    "print(\"Euclidean Distance between (2, 3) and (10, 8) is :\", euclidean_distance)\n"
   ]
  }
 ],
 "metadata": {
  "kernelspec": {
   "display_name": "base",
   "language": "python",
   "name": "python3"
  },
  "language_info": {
   "codemirror_mode": {
    "name": "ipython",
    "version": 3
   },
   "file_extension": ".py",
   "mimetype": "text/x-python",
   "name": "python",
   "nbconvert_exporter": "python",
   "pygments_lexer": "ipython3",
   "version": "3.12.4"
  }
 },
 "nbformat": 4,
 "nbformat_minor": 2
}
