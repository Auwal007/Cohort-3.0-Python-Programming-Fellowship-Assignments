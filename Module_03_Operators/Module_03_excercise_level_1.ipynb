{
 "cells": [
  {
   "cell_type": "markdown",
   "metadata": {},
   "source": [
    "#  Module 3 Assigment: Level 1\n",
    "\n"
   ]
  },
  {
   "cell_type": "markdown",
   "metadata": {},
   "source": [
    "## 1. Declare your age as integer variable."
   ]
  },
  {
   "cell_type": "code",
   "execution_count": 1,
   "metadata": {},
   "outputs": [],
   "source": [
    "age = 22"
   ]
  },
  {
   "cell_type": "markdown",
   "metadata": {},
   "source": [
    "## 2. Declare your height as a float variable."
   ]
  },
  {
   "cell_type": "code",
   "execution_count": 2,
   "metadata": {},
   "outputs": [],
   "source": [
    "height = 5.8\n"
   ]
  },
  {
   "cell_type": "markdown",
   "metadata": {},
   "source": [
    "## 3. Declare a variable that store a complex number."
   ]
  },
  {
   "cell_type": "code",
   "execution_count": 3,
   "metadata": {},
   "outputs": [],
   "source": [
    "complex_number = 7 + 4j\n"
   ]
  },
  {
   "cell_type": "markdown",
   "metadata": {},
   "source": [
    "## 4. Write a script that prompts the user to enter base and height of the triangle and calculate an area of this triangle (area = 0.5 x b x h).\n",
    "\n",
    "### Enter base: 20\n",
    "### Enter height: 10\n",
    "### The area of the triangle is 100"
   ]
  },
  {
   "cell_type": "code",
   "execution_count": 4,
   "metadata": {},
   "outputs": [
    {
     "name": "stdout",
     "output_type": "stream",
     "text": [
      "The area of the triangle is 100.0\n"
     ]
    }
   ],
   "source": [
    "# Calculate area of a triangle\n",
    "base = float(input(\"Enter base: \"))\n",
    "height = float(input(\"Enter height: \"))\n",
    "area = 0.5 * base * height\n",
    "print(f\"The area of the triangle is {area}\")\n"
   ]
  },
  {
   "cell_type": "markdown",
   "metadata": {},
   "source": [
    "## 5. Write a script that prompts the user to enter side a, side b, and side c of the triangle. Calculate the perimeter of the triangle (perimeter = a + b + c).\n",
    "\n",
    "### Enter side a: 5\n",
    "### Enter side b: 4\n",
    "### Enter side c: 3\n",
    "### The perimeter of the triangle is 12"
   ]
  },
  {
   "cell_type": "code",
   "execution_count": 5,
   "metadata": {},
   "outputs": [
    {
     "name": "stdout",
     "output_type": "stream",
     "text": [
      "The perimeter of the triangle is 12.0\n"
     ]
    }
   ],
   "source": [
    "a = float(input(\"Enter side a: \"))\n",
    "b = float(input(\"Enter side b: \"))\n",
    "c = float(input(\"Enter side c: \"))\n",
    "perimeter = a + b + c\n",
    "print(f\"The perimeter of the triangle is {perimeter}\")\n"
   ]
  },
  {
   "cell_type": "markdown",
   "metadata": {},
   "source": [
    "## 6. Get length and width of a rectangle using prompt. Calculate its area (area = length x width) and perimeter (perimeter = 2 x (length + width))"
   ]
  },
  {
   "cell_type": "code",
   "execution_count": 6,
   "metadata": {},
   "outputs": [
    {
     "name": "stdout",
     "output_type": "stream",
     "text": [
      "The area of the rectangle is 35.0 and the perimeterr is 24.0\n"
     ]
    }
   ],
   "source": [
    "length = float(input(\"Enter length: \"))\n",
    "width = float(input(\"Enter width: \"))\n",
    "area = length * width\n",
    "perimeter = 2 * (length + width)\n",
    "print(f\"The area of the rectangle is {area} and the perimeterr is {perimeter}\")"
   ]
  },
  {
   "cell_type": "markdown",
   "metadata": {},
   "source": [
    "## 7. Get radius of a circle using prompt. Calculate the area (area = pi x r x r) and circumference (c = 2 x pi x r) where pi = 3.14."
   ]
  },
  {
   "cell_type": "code",
   "execution_count": 7,
   "metadata": {},
   "outputs": [
    {
     "name": "stdout",
     "output_type": "stream",
     "text": [
      "The area of the circle is 7850.0 and the circumference is 314.0\n"
     ]
    }
   ],
   "source": [
    "radius = float(input(\"Enter radius: \"))\n",
    "pi = 3.14\n",
    "area = pi * radius * radius\n",
    "circumference = 2 * pi * radius\n",
    "print(f\"The area of the circle is {area} and the circumference is {circumference}\")\n"
   ]
  },
  {
   "cell_type": "markdown",
   "metadata": {},
   "source": [
    "## 8. Calculate the slope, x-intercept and y-intercept of y = 2x - 2."
   ]
  },
  {
   "cell_type": "code",
   "execution_count": 9,
   "metadata": {},
   "outputs": [
    {
     "name": "stdout",
     "output_type": "stream",
     "text": [
      "Slope = 2, x-intercept = 1.0, y-intercept = -2\n"
     ]
    }
   ],
   "source": [
    "# Calculate slope, x-intercept, and y-intercept of y = 2x - 2\n",
    "m = 2\n",
    "x_intercept = 2 / 2\n",
    "y_intercept = -2\n",
    "print(f\"Slope = {m}, x-intercept = {x_intercept}, y-intercept = {y_intercept}\")"
   ]
  },
  {
   "cell_type": "markdown",
   "metadata": {},
   "source": [
    "## 9. Slope is (m = y2-y1/x2-x1). Find the slope and Euclidean distance between point (2, 2) and point (6,10)."
   ]
  },
  {
   "cell_type": "code",
   "execution_count": 10,
   "metadata": {},
   "outputs": [
    {
     "name": "stdout",
     "output_type": "stream",
     "text": [
      "Slope = 2.0, Distance = 8.94427190999916\n"
     ]
    }
   ],
   "source": [
    "x1, y1 = 2, 2\n",
    "x2, y2 = 6, 10\n",
    "slope = (y2 - y1) / (x2 - x1)\n",
    "distance = ((x2 - x1)**2 + (y2 - y1)**2)**0.5\n",
    "print(f\"Slope = {slope}, Distance = {distance}\")\n"
   ]
  },
  {
   "cell_type": "markdown",
   "metadata": {},
   "source": [
    "## 10. Compare the slopes in tasks 8 and 9."
   ]
  },
  {
   "cell_type": "code",
   "execution_count": 13,
   "metadata": {},
   "outputs": [
    {
     "name": "stdout",
     "output_type": "stream",
     "text": [
      "Slope in task 8 and 9 are equal\n"
     ]
    }
   ],
   "source": [
    "# Compare slopes in tasks 8 and 9\n",
    "slope_ex8 = 2\n",
    "slope_ex9 = (10 - 2) / (6 - 2)\n",
    "\n",
    "if slope_ex8 > slope_ex9:\n",
    "  print(\"Slope in task 8 is greater than Slope in task 9\")\n",
    "elif slope_ex8 == slope_ex9:\n",
    "  print(\"Slope in task 8 and 9 are equal\")\n",
    "else:\n",
    "  print(\"Slope in task 9 is greater than Slope in task 8\")\n"
   ]
  },
  {
   "cell_type": "markdown",
   "metadata": {},
   "source": [
    "## 11. Calculate the value of y (y = x^2 + 6x + 9). Try to use different x values and figure out at what x value y is going to be 0."
   ]
  },
  {
   "cell_type": "code",
   "execution_count": 14,
   "metadata": {},
   "outputs": [
    {
     "name": "stdout",
     "output_type": "stream",
     "text": [
      "The x value where y = 0 is [-3]\n"
     ]
    }
   ],
   "source": [
    "# Find the value of y and when y=0\n",
    "import sympy as sp\n",
    "x = sp.symbols('x')\n",
    "y = x**2 + 6*x + 9\n",
    "solution = sp.solve(y, x)\n",
    "print(f\"The x value where y = 0 is {solution}\")\n"
   ]
  },
  {
   "cell_type": "markdown",
   "metadata": {},
   "source": [
    "## 12. Find the length of 'python' and 'dragon' and make a falsy comparison statement.\n"
   ]
  },
  {
   "cell_type": "code",
   "execution_count": 15,
   "metadata": {},
   "outputs": [
    {
     "name": "stdout",
     "output_type": "stream",
     "text": [
      "False\n"
     ]
    }
   ],
   "source": [
    "len_python = len('python')\n",
    "len_dragon = len('dragon')\n",
    "print(len_python != len_dragon)\n"
   ]
  },
  {
   "cell_type": "markdown",
   "metadata": {},
   "source": [
    "## 13. Use and operator to check if 'on' is found in both 'python' and 'dragon'\n"
   ]
  },
  {
   "cell_type": "code",
   "execution_count": 16,
   "metadata": {},
   "outputs": [
    {
     "name": "stdout",
     "output_type": "stream",
     "text": [
      "True\n"
     ]
    }
   ],
   "source": [
    "print('on' in 'python' and 'on' in 'dragon')\n"
   ]
  },
  {
   "cell_type": "markdown",
   "metadata": {},
   "source": [
    "## 14. I hope this course is not full of jargon. Use in operator to check if jargon is in the sentence.\n"
   ]
  },
  {
   "cell_type": "code",
   "execution_count": 17,
   "metadata": {},
   "outputs": [
    {
     "name": "stdout",
     "output_type": "stream",
     "text": [
      "True\n"
     ]
    }
   ],
   "source": [
    "sentence = \"I hope this course is not full of jargon.\"\n",
    "print('jargon' in sentence)\n"
   ]
  },
  {
   "cell_type": "markdown",
   "metadata": {},
   "source": [
    "## 15. There is no 'on' in both dragon and python.\n"
   ]
  },
  {
   "cell_type": "code",
   "execution_count": 18,
   "metadata": {},
   "outputs": [
    {
     "name": "stdout",
     "output_type": "stream",
     "text": [
      "False\n"
     ]
    }
   ],
   "source": [
    "print('on' not in 'python' and 'on' not in 'dragon')\n"
   ]
  },
  {
   "cell_type": "markdown",
   "metadata": {},
   "source": [
    "## 16. Find the length of the text python and convert the value to float and convert it to string."
   ]
  },
  {
   "cell_type": "code",
   "execution_count": 25,
   "metadata": {},
   "outputs": [
    {
     "name": "stdout",
     "output_type": "stream",
     "text": [
      "6.0\n",
      "<class 'float'>\n",
      "<class 'str'>\n"
     ]
    }
   ],
   "source": [
    "len_python = len('python')\n",
    "float_len_python = float(len_python)\n",
    "str_len_python = str(float_len_python)\n",
    "print(str_len_python)\n",
    "\n",
    "print(type(float_len_python))\n",
    "print(type(str_len_python))"
   ]
  },
  {
   "cell_type": "markdown",
   "metadata": {},
   "source": [
    "## 17. Even numbers are divisible by 2 and the remainder is zero. How do you check if a number is even or not using python?\n"
   ]
  },
  {
   "cell_type": "code",
   "execution_count": 26,
   "metadata": {},
   "outputs": [
    {
     "name": "stdout",
     "output_type": "stream",
     "text": [
      "The number is even\n"
     ]
    }
   ],
   "source": [
    "number = int(input(\"Enter a number: \"))\n",
    "print(f\"The number is {'even' if number % 2 == 0 else 'odd'}\")\n"
   ]
  },
  {
   "cell_type": "markdown",
   "metadata": {},
   "source": [
    "## 18. Check if the floor division of 7 by 3 is equal to the int converted value of 2.7.\n"
   ]
  },
  {
   "cell_type": "code",
   "execution_count": 27,
   "metadata": {},
   "outputs": [
    {
     "name": "stdout",
     "output_type": "stream",
     "text": [
      "True\n"
     ]
    }
   ],
   "source": [
    "result = 7 // 3 == int(2.7)\n",
    "print(result)\n"
   ]
  },
  {
   "cell_type": "markdown",
   "metadata": {},
   "source": [
    "## 19. Check if type of '10' is equal to type of 10."
   ]
  },
  {
   "cell_type": "code",
   "execution_count": 28,
   "metadata": {},
   "outputs": [
    {
     "name": "stdout",
     "output_type": "stream",
     "text": [
      "False\n"
     ]
    }
   ],
   "source": [
    "print(type('10') == type(10))"
   ]
  },
  {
   "cell_type": "markdown",
   "metadata": {},
   "source": [
    "## 20. Check if int('9.8') is equal to 10."
   ]
  },
  {
   "cell_type": "code",
   "execution_count": 31,
   "metadata": {},
   "outputs": [
    {
     "name": "stdout",
     "output_type": "stream",
     "text": [
      "Cannot convert '9.8' to an integer.\n"
     ]
    }
   ],
   "source": [
    "# Check if int('9.8') equals 10\n",
    "try:\n",
    "    print(int('9.8') == 10)\n",
    "except ValueError:\n",
    "    print(\"Cannot convert '9.8' to an integer.\")"
   ]
  },
  {
   "cell_type": "markdown",
   "metadata": {},
   "source": [
    "## 21. Writ a script that prompts the user to enter hours and rate per hour. Calculate pay of the person?\n",
    "\n",
    "### Enter hours: 40\n",
    "### Enter rate per hour: 28\n",
    "### Your weekly earning should be 1120"
   ]
  },
  {
   "cell_type": "code",
   "execution_count": 32,
   "metadata": {},
   "outputs": [
    {
     "name": "stdout",
     "output_type": "stream",
     "text": [
      "Your weekly earning is 1120.0 \n"
     ]
    }
   ],
   "source": [
    "hours = float(input(\"Enter hours: \"))\n",
    "rate_per_hour = float(input(\"Enter rate per hour: \"))\n",
    "pay = hours * rate_per_hour\n",
    "print(f\"Your weekly earning is {pay} \")\n"
   ]
  },
  {
   "cell_type": "markdown",
   "metadata": {},
   "source": [
    "## 22. Write a script that prompts the user to enter number of years. Calculate the number of seconds a person can live. Assume a person can live hundred years.\n",
    "\n",
    "### Enter number of years you have lived: 100\n",
    "### You have lived for 3153600000 seconds."
   ]
  },
  {
   "cell_type": "code",
   "execution_count": 33,
   "metadata": {},
   "outputs": [
    {
     "name": "stdout",
     "output_type": "stream",
     "text": [
      "You have lived for 3153600000 seconds.\n"
     ]
    }
   ],
   "source": [
    "years = int(input(\"Enter number of years you have lived: \"))\n",
    "seconds = years * 365 * 24 * 60 * 60\n",
    "print(f\"You have lived for {seconds} seconds.\")"
   ]
  },
  {
   "cell_type": "markdown",
   "metadata": {},
   "source": [
    "## 23. Write a Python script that displays the following table.\n",
    "\n",
    "### 1 1 1 1 1\n",
    "### 2 1 2 4 8\n",
    "### 3 1 3 9 27\n",
    "### 4 1 4 16 64\n",
    "### 5 1 5 25 125"
   ]
  },
  {
   "cell_type": "code",
   "execution_count": 34,
   "metadata": {},
   "outputs": [
    {
     "name": "stdout",
     "output_type": "stream",
     "text": [
      "1 1 1 1 1\n",
      "2 1 2 4 8\n",
      "3 1 3 9 27\n",
      "4 1 4 16 64\n",
      "5 1 5 25 125\n"
     ]
    }
   ],
   "source": [
    "print(\"1 1 1 1 1\")\n",
    "print(\"2 1 2 4 8\")\n",
    "print(\"3 1 3 9 27\")\n",
    "print(\"4 1 4 16 64\")\n",
    "print(\"5 1 5 25 125\")\n"
   ]
  }
 ],
 "metadata": {
  "kernelspec": {
   "display_name": "base",
   "language": "python",
   "name": "python3"
  },
  "language_info": {
   "codemirror_mode": {
    "name": "ipython",
    "version": 3
   },
   "file_extension": ".py",
   "mimetype": "text/x-python",
   "name": "python",
   "nbconvert_exporter": "python",
   "pygments_lexer": "ipython3",
   "version": "3.12.4"
  }
 },
 "nbformat": 4,
 "nbformat_minor": 2
}
