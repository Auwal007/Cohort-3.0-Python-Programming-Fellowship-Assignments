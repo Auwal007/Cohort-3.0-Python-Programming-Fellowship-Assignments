{
 "cells": [
  {
   "cell_type": "markdown",
   "metadata": {},
   "source": [
    "# Week 1 Assigment: Variables Exercises\n",
    "\n"
   ]
  },
  {
   "cell_type": "markdown",
   "metadata": {},
   "source": [
    "## 1. Simple Variable Assignment\n"
   ]
  },
  {
   "cell_type": "markdown",
   "metadata": {},
   "source": [
    "**Task:** Create a variable `x` and assign the value `10` to it. Print the value of `x`.\n"
   ]
  },
  {
   "cell_type": "code",
   "execution_count": 7,
   "metadata": {},
   "outputs": [
    {
     "name": "stdout",
     "output_type": "stream",
     "text": [
      "10\n"
     ]
    }
   ],
   "source": [
    "x = 10\n",
    "print(x)"
   ]
  },
  {
   "cell_type": "markdown",
   "metadata": {},
   "source": [
    "## 2. Assigning Different Data Types\n",
    "**Task:** Create variables of different data types:\n",
    "- Integer: `age = 25`\n",
    "- Float: `height = 5.9`\n",
    "- String: `name = \"John\"`\n",
    "- Boolean: `is_active = True`\n",
    "\n",
    "Print all the variables."
   ]
  },
  {
   "cell_type": "code",
   "execution_count": 20,
   "metadata": {},
   "outputs": [
    {
     "name": "stdout",
     "output_type": "stream",
     "text": [
      "22 \n",
      " 5.8 \n",
      " Muhammad \n",
      " True\n"
     ]
    }
   ],
   "source": [
    "age = 22\n",
    "height = 5.8\n",
    "name = \"Muhammad\"\n",
    "is_active = True\n",
    "\n",
    "print(age,\"\\n\", height, \"\\n\",name, \"\\n\",is_active )\n"
   ]
  },
  {
   "cell_type": "markdown",
   "metadata": {},
   "source": [
    "## 3. Simple Addition\n",
    "**Task:** Create two variables, `a` and `b`, and assign them integer values. Calculate their sum and print the result.\n"
   ]
  },
  {
   "cell_type": "code",
   "execution_count": 21,
   "metadata": {},
   "outputs": [
    {
     "name": "stdout",
     "output_type": "stream",
     "text": [
      "20\n"
     ]
    }
   ],
   "source": [
    "a = 5\n",
    "b = 15\n",
    "sum = a+b\n",
    "print(sum)"
   ]
  },
  {
   "cell_type": "markdown",
   "metadata": {},
   "source": [
    "## 4. String Concatenation\n",
    "**Task:** Create two string variables, `first_name = \"Alice\"` and `last_name = \"Wonderland\"`. Concatenate them to create a full name and print the result."
   ]
  },
  {
   "cell_type": "code",
   "execution_count": 24,
   "metadata": {},
   "outputs": [
    {
     "name": "stdout",
     "output_type": "stream",
     "text": [
      "Alice Wonderland\n"
     ]
    }
   ],
   "source": [
    "first_name = \"Alice\"\n",
    "last_name = \"Wonderland\"\n",
    "concat = first_name + \" \" + last_name\n",
    "print(concat)"
   ]
  },
  {
   "cell_type": "markdown",
   "metadata": {},
   "source": [
    "## 5. Variable Type Check\n",
    "**Task:** Create a variable `x = \"Hello\"`. Check and print the type of `x` using the `type()` function."
   ]
  },
  {
   "cell_type": "code",
   "execution_count": 26,
   "metadata": {},
   "outputs": [
    {
     "name": "stdout",
     "output_type": "stream",
     "text": [
      "<class 'str'>\n"
     ]
    }
   ],
   "source": [
    "x = \"Hello!\"\n",
    "print(type(x))"
   ]
  },
  {
   "cell_type": "markdown",
   "metadata": {},
   "source": [
    "## 6. Swap Two Variables\n",
    "**Task:** Create two variables `a = 10` and `b = 5`. Swap their values without using a temporary variable. Print the new values of `a` and `b`."
   ]
  },
  {
   "cell_type": "code",
   "execution_count": null,
   "metadata": {},
   "outputs": [
    {
     "name": "stdout",
     "output_type": "stream",
     "text": [
      "5\n",
      "10\n"
     ]
    }
   ],
   "source": [
    "a = 10\n",
    "b = 5\n",
    "\n",
    "a, b = b, a\n",
    "\n",
    "print(a)\n",
    "print(b)"
   ]
  },
  {
   "cell_type": "markdown",
   "metadata": {},
   "source": [
    "## 7. Arithmetic Operations\n",
    "**Task:** Create two variables `x = 15` and `y = 4`. Perform addition, subtraction, multiplication, division, and modulus operations. Print the results."
   ]
  },
  {
   "cell_type": "code",
   "execution_count": 30,
   "metadata": {},
   "outputs": [
    {
     "name": "stdout",
     "output_type": "stream",
     "text": [
      "19\n",
      "11\n",
      "3.75\n",
      "3\n"
     ]
    }
   ],
   "source": [
    "x = 15\n",
    "y = 4\n",
    "\n",
    "print(x+y)\n",
    "print(x-y)\n",
    "print(x/y)\n",
    "print(x%y)"
   ]
  },
  {
   "cell_type": "markdown",
   "metadata": {},
   "source": [
    "## 8. Multiple Variable Assignment\n",
    "**Task:** Assign values to multiple variables in a single line:\n",
    "- `x = 1`, `y = 2`, `z = 3`\n",
    "  \n",
    "Print the values of all three variables."
   ]
  },
  {
   "cell_type": "code",
   "execution_count": 31,
   "metadata": {},
   "outputs": [
    {
     "name": "stdout",
     "output_type": "stream",
     "text": [
      "1 2 3\n"
     ]
    }
   ],
   "source": [
    "x = 1 \n",
    "y = 2\n",
    "z = 3\n",
    "\n",
    "print(x,y,z)"
   ]
  },
  {
   "cell_type": "markdown",
   "metadata": {},
   "source": [
    "## 9. Updating Variable Values\n",
    "**Task:** Create a variable `counter = 10`. Increase its value by 5 using an assignment operation (`+=`). Then decrease its value by 3 (`-=`). Print the final value of `counter`."
   ]
  },
  {
   "cell_type": "code",
   "execution_count": 34,
   "metadata": {},
   "outputs": [
    {
     "name": "stdout",
     "output_type": "stream",
     "text": [
      "12\n"
     ]
    }
   ],
   "source": [
    "counter = 10\n",
    "counter += 5\n",
    "counter -= 3\n",
    "print(counter)"
   ]
  },
  {
   "cell_type": "markdown",
   "metadata": {},
   "source": [
    "## 10. Variable Re-Assignment\n",
    "**Task:** Create a variable `x = 100`. Reassign its value to `x = 50`. Print the new value of `x`."
   ]
  },
  {
   "cell_type": "code",
   "execution_count": 35,
   "metadata": {},
   "outputs": [
    {
     "name": "stdout",
     "output_type": "stream",
     "text": [
      "50\n"
     ]
    }
   ],
   "source": [
    "x = 100\n",
    "x = 50\n",
    "print(x)"
   ]
  },
  {
   "cell_type": "markdown",
   "metadata": {},
   "source": [
    "## 11. User Input and Variable Assignment\n",
    "**Task:** Use the `input()` function to assign the user's name to a variable and print a greeting message with the user's name."
   ]
  },
  {
   "cell_type": "code",
   "execution_count": 37,
   "metadata": {},
   "outputs": [
    {
     "name": "stdout",
     "output_type": "stream",
     "text": [
      "Good morning Auwal!\n"
     ]
    }
   ],
   "source": [
    "name = input(\"What is your name: \")\n",
    "print(f\"Good morning {name}!\")"
   ]
  },
  {
   "cell_type": "markdown",
   "metadata": {},
   "source": [
    "## 12. String to Integer Conversion\n",
    "**Task:** Create a string variable `num_str = \"42\"`. Convert it to an integer and print the result."
   ]
  },
  {
   "cell_type": "code",
   "execution_count": 39,
   "metadata": {},
   "outputs": [
    {
     "name": "stdout",
     "output_type": "stream",
     "text": [
      "42\n"
     ]
    }
   ],
   "source": [
    "num_str = \"42\"\n",
    "num = int(num_str)\n",
    "\n",
    "print(num)\n"
   ]
  },
  {
   "cell_type": "markdown",
   "metadata": {},
   "source": [
    "## 13. Integer to String Conversion\n",
    "**Task:** Create an integer variable `num = 100`. Convert it to a string and print the result."
   ]
  },
  {
   "cell_type": "code",
   "execution_count": 42,
   "metadata": {},
   "outputs": [
    {
     "name": "stdout",
     "output_type": "stream",
     "text": [
      "100\n",
      "<class 'str'>\n"
     ]
    }
   ],
   "source": [
    "num = 100\n",
    "string_num = str(num)\n",
    "print(string_num)\n",
    "print(type(string_num))"
   ]
  },
  {
   "cell_type": "markdown",
   "metadata": {},
   "source": [
    "## 14. Working with Lists\n",
    "**Task:** Create a list `fruits = [\"apple\", \"banana\", \"cherry\"]`. Assign the first element of the list to a variable `favorite_fruit` and print it."
   ]
  },
  {
   "cell_type": "code",
   "execution_count": 43,
   "metadata": {},
   "outputs": [
    {
     "name": "stdout",
     "output_type": "stream",
     "text": [
      "apple\n"
     ]
    }
   ],
   "source": [
    "fruits = [\"apple\", \"banana\", \"cherry\"]\n",
    "favourite_fruit = fruits[0]\n",
    "print(favourite_fruit)"
   ]
  },
  {
   "cell_type": "markdown",
   "metadata": {},
   "source": [
    "## 15. String Length\n",
    "**Task:** Create a string variable `message = \"Hello, Python!\"`. Assign the length of the string to a variable `length` and print it.\n"
   ]
  },
  {
   "cell_type": "code",
   "execution_count": 44,
   "metadata": {},
   "outputs": [
    {
     "name": "stdout",
     "output_type": "stream",
     "text": [
      "14\n"
     ]
    }
   ],
   "source": [
    "message = \"Hello, Python!\"\n",
    "length = len(message)\n",
    "print(length)\n",
    "\n"
   ]
  },
  {
   "cell_type": "markdown",
   "metadata": {},
   "source": [
    "## 16. Floating-Point Arithmetic\n",
    "**Task:** Create two floating-point variables `a = 3.14` and `b = 2.71`. Add them together, subtract them, and multiply them. Print the results."
   ]
  },
  {
   "cell_type": "code",
   "execution_count": 45,
   "metadata": {},
   "outputs": [
    {
     "name": "stdout",
     "output_type": "stream",
     "text": [
      "5.85\n",
      "8.5094\n",
      "0.43000000000000016\n"
     ]
    }
   ],
   "source": [
    "a  = 3.14\n",
    "b = 2.71\n",
    "\n",
    "print(a+b)\n",
    "print(a*b)\n",
    "print(a-b)"
   ]
  },
  {
   "cell_type": "markdown",
   "metadata": {},
   "source": [
    "## 17. Combining Strings with Variables\n",
    "**Task:** Create variables `first_name = \"John\"` and `last_name = \"Doe\"`. Use string concatenation to print `Hello, John Doe!`."
   ]
  },
  {
   "cell_type": "code",
   "execution_count": 50,
   "metadata": {},
   "outputs": [
    {
     "name": "stdout",
     "output_type": "stream",
     "text": [
      "Hello,John Doe\n"
     ]
    }
   ],
   "source": [
    "first_name = \"John\"\n",
    "last_name = \"Doe\"\n",
    "print(\"Hello,\" + first_name +\" \"+ last_name)"
   ]
  },
  {
   "cell_type": "markdown",
   "metadata": {},
   "source": [
    "## 18. String Formatting with f-strings\n",
    "**Task:** Create variables `age = 25` and `name = \"Alice\"`. Use an f-string to print: `\"My name is Alice and I am 25 years old.\"`"
   ]
  },
  {
   "cell_type": "code",
   "execution_count": 52,
   "metadata": {},
   "outputs": [
    {
     "name": "stdout",
     "output_type": "stream",
     "text": [
      "My name is Alice and I am 25 years old.\n"
     ]
    }
   ],
   "source": [
    "age = 25 \n",
    "name = \"Alice\"\n",
    "print(f\"My name is {name} and I am {age} years old.\")\n"
   ]
  },
  {
   "cell_type": "markdown",
   "metadata": {},
   "source": [
    "## 19. Constants Convention\n",
    "**Task:** Define a constant `PI = 3.14159`. Print the value of `PI` and explain why constants are written in uppercase."
   ]
  },
  {
   "cell_type": "code",
   "execution_count": 54,
   "metadata": {},
   "outputs": [
    {
     "name": "stdout",
     "output_type": "stream",
     "text": [
      "3.141159\n"
     ]
    }
   ],
   "source": [
    "PI = 3.141159\n",
    "print(PI)"
   ]
  },
  {
   "cell_type": "markdown",
   "metadata": {},
   "source": [
    "## 20. Working with Dictionaries\n",
    "**Task:** Create a dictionary `person = {\"name\": \"Alice\", \"age\": 25}`. Assign the value of `\"age\"` from the dictionary to a variable `age_value` and print it."
   ]
  },
  {
   "cell_type": "code",
   "execution_count": 58,
   "metadata": {},
   "outputs": [
    {
     "ename": "KeyError",
     "evalue": "25",
     "output_type": "error",
     "traceback": [
      "\u001b[1;31m---------------------------------------------------------------------------\u001b[0m",
      "\u001b[1;31mKeyError\u001b[0m                                  Traceback (most recent call last)",
      "Cell \u001b[1;32mIn[58], line 2\u001b[0m\n\u001b[0;32m      1\u001b[0m person \u001b[38;5;241m=\u001b[39m {\u001b[38;5;124m\"\u001b[39m\u001b[38;5;124mname\u001b[39m\u001b[38;5;124m\"\u001b[39m: \u001b[38;5;124m\"\u001b[39m\u001b[38;5;124mAlice\u001b[39m\u001b[38;5;124m\"\u001b[39m, \u001b[38;5;124m\"\u001b[39m\u001b[38;5;124mage\u001b[39m\u001b[38;5;124m\"\u001b[39m: \u001b[38;5;241m25\u001b[39m}\n\u001b[1;32m----> 2\u001b[0m age_value \u001b[38;5;241m=\u001b[39m person[age]\n\u001b[0;32m      3\u001b[0m \u001b[38;5;28mprint\u001b[39m(age_value)\n",
      "\u001b[1;31mKeyError\u001b[0m: 25"
     ]
    }
   ],
   "source": [
    "person = {\"name\": \"Alice\", \"age\": 25}\n",
    "age_value = person[age]\n",
    "print(age_value)"
   ]
  },
  {
   "cell_type": "markdown",
   "metadata": {},
   "source": [
    "## 21. Using Global and Local Variables\n",
    "**Task:** Create a global variable `x = 10`. In a function, assign a new value to `x` (locally) and print both the local and global values of `x`."
   ]
  },
  {
   "cell_type": "code",
   "execution_count": null,
   "metadata": {},
   "outputs": [],
   "source": [
    "x = 10\n"
   ]
  },
  {
   "cell_type": "markdown",
   "metadata": {},
   "source": [
    "## 22. Swapping Values with Pythonic Method\n",
    "**Task:** Swap the values of two variables `x = 5` and `y = 10` using Python's multiple assignment feature. Print the new values of `x` and `y`."
   ]
  },
  {
   "cell_type": "markdown",
   "metadata": {},
   "source": [
    "## 23. Boolean Expressions\n",
    "**Task:** Create two boolean variables `is_sunny = True` and `is_raining = False`. Print a message based on the result of `is_sunny` and `is_raining`.\n"
   ]
  },
  {
   "cell_type": "code",
   "execution_count": null,
   "metadata": {},
   "outputs": [],
   "source": [
    "is_sunny = True\n",
    "is_raining = False\n",
    "is_sunny\n",
    "is_raining\n"
   ]
  },
  {
   "cell_type": "markdown",
   "metadata": {},
   "source": [
    "## 24. Typecasting Multiple Variables\n",
    "**Task:** Create a variable `x = \"100\"`, `y = \"50\"`, and `z = \"30\"`. Convert all of them to integers and print their sum."
   ]
  },
  {
   "cell_type": "code",
   "execution_count": 64,
   "metadata": {},
   "outputs": [
    {
     "name": "stdout",
     "output_type": "stream",
     "text": [
      "180\n"
     ]
    }
   ],
   "source": [
    "x = \"100\"\n",
    "y = \"50\"\n",
    "z = \"30\"\n",
    "\n",
    "x = int(x)\n",
    "y = int(y)\n",
    "z = int(z)\n",
    "\n",
    "print(x+y+z)"
   ]
  },
  {
   "cell_type": "markdown",
   "metadata": {},
   "source": [
    "## 25. Modifying String Values\n",
    "**Task:** Create a string variable `sentence = \"Python is awesome\"`. Replace the word \"awesome\" with \"cool\" and print the modified string."
   ]
  },
  {
   "cell_type": "code",
   "execution_count": null,
   "metadata": {},
   "outputs": [],
   "source": []
  }
 ],
 "metadata": {
  "kernelspec": {
   "display_name": "base",
   "language": "python",
   "name": "python3"
  },
  "language_info": {
   "codemirror_mode": {
    "name": "ipython",
    "version": 3
   },
   "file_extension": ".py",
   "mimetype": "text/x-python",
   "name": "python",
   "nbconvert_exporter": "python",
   "pygments_lexer": "ipython3",
   "version": "3.12.4"
  }
 },
 "nbformat": 4,
 "nbformat_minor": 2
}
