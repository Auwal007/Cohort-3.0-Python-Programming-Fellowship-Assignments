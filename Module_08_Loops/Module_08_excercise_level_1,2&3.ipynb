{
 "cells": [
  {
   "cell_type": "markdown",
   "metadata": {},
   "source": [
    "# Module 8 Assigment: Level 1\n",
    "\n"
   ]
  },
  {
   "cell_type": "markdown",
   "metadata": {},
   "source": [
    "## 1. Iterate 0 to 10 using for loop, do the same using while loop."
   ]
  },
  {
   "cell_type": "code",
   "execution_count": 4,
   "metadata": {},
   "outputs": [
    {
     "name": "stdout",
     "output_type": "stream",
     "text": [
      "0\n",
      "1\n",
      "2\n",
      "3\n",
      "4\n",
      "5\n",
      "6\n",
      "7\n",
      "8\n",
      "9\n",
      "10\n"
     ]
    }
   ],
   "source": [
    "for i in range(11):\n",
    "    print(i)\n"
   ]
  },
  {
   "cell_type": "code",
   "execution_count": 5,
   "metadata": {},
   "outputs": [
    {
     "name": "stdout",
     "output_type": "stream",
     "text": [
      "0\n",
      "1\n",
      "2\n",
      "3\n",
      "4\n",
      "5\n",
      "6\n",
      "7\n",
      "8\n",
      "9\n",
      "10\n"
     ]
    }
   ],
   "source": [
    "num = 0\n",
    "while num < 11:\n",
    "    print(num)\n",
    "    num += 1 "
   ]
  },
  {
   "cell_type": "markdown",
   "metadata": {},
   "source": [
    "## 2. Iterate 10 to 0 using for loop, do the same using while loop."
   ]
  },
  {
   "cell_type": "code",
   "execution_count": 9,
   "metadata": {},
   "outputs": [
    {
     "name": "stdout",
     "output_type": "stream",
     "text": [
      "10\n",
      "9\n",
      "8\n",
      "7\n",
      "6\n",
      "5\n",
      "4\n",
      "3\n",
      "2\n",
      "1\n",
      "0\n"
     ]
    }
   ],
   "source": [
    "for m in range(10, -1, -1):\n",
    "    print(m)"
   ]
  },
  {
   "cell_type": "code",
   "execution_count": 12,
   "metadata": {},
   "outputs": [
    {
     "name": "stdout",
     "output_type": "stream",
     "text": [
      "10\n",
      "9\n",
      "8\n",
      "7\n",
      "6\n",
      "5\n",
      "4\n",
      "3\n",
      "2\n",
      "1\n"
     ]
    }
   ],
   "source": [
    "m = 10\n",
    "while m > 0:\n",
    "    print(m)\n",
    "    m -= 1"
   ]
  },
  {
   "cell_type": "markdown",
   "metadata": {},
   "source": [
    "## 3. Write a loop that makes seven calls to print(), so we get on the output the following triangle:\n",
    "```python\n",
    "#\n",
    "##\n",
    "###\n",
    "####\n",
    "#####\n",
    "######\n",
    "#######\n",
    "```"
   ]
  },
  {
   "cell_type": "code",
   "execution_count": 14,
   "metadata": {},
   "outputs": [
    {
     "name": "stdout",
     "output_type": "stream",
     "text": [
      "#\n",
      "##\n",
      "###\n",
      "####\n",
      "#####\n",
      "######\n",
      "#######\n"
     ]
    }
   ],
   "source": [
    "k = 1\n",
    "while k < 8:\n",
    "    print('#'*k)\n",
    "    k += 1"
   ]
  },
  {
   "cell_type": "markdown",
   "metadata": {},
   "source": [
    "## 4. Use nested loops to create the following:\n",
    "```python\n",
    "# # # # # # # #\n",
    "# # # # # # # #\n",
    "# # # # # # # #\n",
    "# # # # # # # #\n",
    "# # # # # # # #\n",
    "# # # # # # # #\n",
    "# # # # # # # #\n",
    "# # # # # # # #"
   ]
  },
  {
   "cell_type": "code",
   "execution_count": 19,
   "metadata": {},
   "outputs": [
    {
     "name": "stdout",
     "output_type": "stream",
     "text": [
      "# # # # # # # # \n",
      "# # # # # # # # \n",
      "# # # # # # # # \n",
      "# # # # # # # # \n",
      "# # # # # # # # \n",
      "# # # # # # # # \n",
      "# # # # # # # # \n",
      "# # # # # # # # \n"
     ]
    }
   ],
   "source": [
    "# Number of rows and columns\n",
    "rows = 8\n",
    "columns = 8\n",
    "\n",
    "# Outer loop for rows\n",
    "for i in range(rows):\n",
    "    # Inner loop for columns\n",
    "    for j in range(columns):\n",
    "        print(\"#\", end=\" \")  # Print # with a space\n",
    "    print()  # Move to the next line after each row"
   ]
  },
  {
   "cell_type": "markdown",
   "metadata": {},
   "source": [
    "## 5. Print the following pattern:\n",
    "```sh\n",
    "0 x 0 = 0\n",
    "1 x 1 = 1\n",
    "2 x 2 = 4\n",
    "3 x 3 = 9\n",
    "4 x 4 = 16\n",
    "5 x 5 = 25\n",
    "6 x 6 = 36\n",
    "7 x 7 = 49\n",
    "8 x 8 = 64\n",
    "9 x 9 = 81\n",
    "10 x 10 = 100"
   ]
  },
  {
   "cell_type": "code",
   "execution_count": 2,
   "metadata": {},
   "outputs": [
    {
     "name": "stdout",
     "output_type": "stream",
     "text": [
      "0 x 0 = 0\n",
      "1 x 1 = 1\n",
      "2 x 2 = 4\n",
      "3 x 3 = 9\n",
      "4 x 4 = 16\n",
      "5 x 5 = 25\n",
      "6 x 6 = 36\n",
      "7 x 7 = 49\n",
      "8 x 8 = 64\n",
      "9 x 9 = 81\n",
      "10 x 10 = 100\n"
     ]
    }
   ],
   "source": [
    "for q in range(11):\n",
    "    print(f\"{q} x {q} = {q*q}\")"
   ]
  },
  {
   "cell_type": "markdown",
   "metadata": {},
   "source": [
    "## 6. Iterate through the list, ['Python', 'Numpy','Pandas','Django', 'Flask'] using a for loop and print out the items."
   ]
  },
  {
   "cell_type": "code",
   "execution_count": 11,
   "metadata": {},
   "outputs": [
    {
     "name": "stdout",
     "output_type": "stream",
     "text": [
      "Python\n",
      "Numpy\n",
      "Pandas\n",
      "Django\n",
      "Flask\n"
     ]
    }
   ],
   "source": [
    "skills =  ['Python', 'Numpy','Pandas','Django', 'Flask']\n",
    "for skill in skills:\n",
    "    print(skill)\n"
   ]
  },
  {
   "cell_type": "markdown",
   "metadata": {},
   "source": [
    "## 7. Use for loop to iterate from 0 to 100 and print only even numbers.\n"
   ]
  },
  {
   "cell_type": "code",
   "execution_count": 14,
   "metadata": {},
   "outputs": [
    {
     "name": "stdout",
     "output_type": "stream",
     "text": [
      "0\n",
      "2\n",
      "4\n",
      "6\n",
      "8\n",
      "10\n",
      "12\n",
      "14\n",
      "16\n",
      "18\n",
      "20\n",
      "22\n",
      "24\n",
      "26\n",
      "28\n",
      "30\n",
      "32\n",
      "34\n",
      "36\n",
      "38\n",
      "40\n",
      "42\n",
      "44\n",
      "46\n",
      "48\n",
      "50\n",
      "52\n",
      "54\n",
      "56\n",
      "58\n",
      "60\n",
      "62\n",
      "64\n",
      "66\n",
      "68\n",
      "70\n",
      "72\n",
      "74\n",
      "76\n",
      "78\n",
      "80\n",
      "82\n",
      "84\n",
      "86\n",
      "88\n",
      "90\n",
      "92\n",
      "94\n",
      "96\n",
      "98\n",
      "100\n"
     ]
    }
   ],
   "source": [
    "num = range(101)\n",
    "for i in num:\n",
    "    if i % 2 == 0:\n",
    "        print(i)"
   ]
  },
  {
   "cell_type": "markdown",
   "metadata": {},
   "source": [
    "## 8. Use for loop to iterate from 0 to 100 and print only odd numbers."
   ]
  },
  {
   "cell_type": "code",
   "execution_count": 13,
   "metadata": {},
   "outputs": [
    {
     "name": "stdout",
     "output_type": "stream",
     "text": [
      "1\n",
      "3\n",
      "5\n",
      "7\n",
      "9\n",
      "11\n",
      "13\n",
      "15\n",
      "17\n",
      "19\n",
      "21\n",
      "23\n",
      "25\n",
      "27\n",
      "29\n",
      "31\n",
      "33\n",
      "35\n",
      "37\n",
      "39\n",
      "41\n",
      "43\n",
      "45\n",
      "47\n",
      "49\n",
      "51\n",
      "53\n",
      "55\n",
      "57\n",
      "59\n",
      "61\n",
      "63\n",
      "65\n",
      "67\n",
      "69\n",
      "71\n",
      "73\n",
      "75\n",
      "77\n",
      "79\n",
      "81\n",
      "83\n",
      "85\n",
      "87\n",
      "89\n",
      "91\n",
      "93\n",
      "95\n",
      "97\n",
      "99\n"
     ]
    }
   ],
   "source": [
    "num = range(101)\n",
    "for i in num:\n",
    "    if i % 2!= 0:\n",
    "        print(i)"
   ]
  },
  {
   "cell_type": "markdown",
   "metadata": {},
   "source": [
    "#  Module 8 Assigment: Level 2"
   ]
  },
  {
   "cell_type": "markdown",
   "metadata": {},
   "source": [
    "## 1. Use for loop to iterate from 0 to 100 and print the sum of all numbers.\n",
    "```sh\n",
    "The sum of all numbers is 5050.\n",
    "```"
   ]
  },
  {
   "cell_type": "code",
   "execution_count": 2,
   "metadata": {},
   "outputs": [
    {
     "name": "stdout",
     "output_type": "stream",
     "text": [
      "The sum of all numbers from 0 to 100 is: 5050\n"
     ]
    }
   ],
   "source": [
    "total_sum = 0\n",
    "\n",
    "for i in range(101):\n",
    "    total_sum += i\n",
    "\n",
    "print(\"The sum of all numbers from 0 to 100 is:\", total_sum)"
   ]
  },
  {
   "cell_type": "markdown",
   "metadata": {},
   "source": [
    "## 2. Use for loop to iterate from 0 to 100 and print the sum of all evens and the sum of all odds.\n",
    "```sh\n",
    "The sum of all evens is 2550. And the sum of all odds is 2500."
   ]
  },
  {
   "cell_type": "code",
   "execution_count": 3,
   "metadata": {},
   "outputs": [
    {
     "name": "stdout",
     "output_type": "stream",
     "text": [
      "The sum of all numbers from 0 to 100 is: 2550\n"
     ]
    }
   ],
   "source": [
    "total_sum = 0\n",
    "\n",
    "for number in range(101):\n",
    "    if number % 2 == 0:\n",
    "        total_sum += number\n",
    "\n",
    "print(\"The sum of all numbers from 0 to 100 is:\", total_sum)"
   ]
  },
  {
   "cell_type": "markdown",
   "metadata": {},
   "source": [
    "#  Module 8 Assigment: Level 3\n",
    "\n"
   ]
  },
  {
   "cell_type": "markdown",
   "metadata": {},
   "source": [
    "## 1. Go to the data folder and use the countries.py file. Loop through the countries and extract all the countries containing the word land."
   ]
  },
  {
   "cell_type": "code",
   "execution_count": 3,
   "metadata": {},
   "outputs": [
    {
     "name": "stdout",
     "output_type": "stream",
     "text": [
      "['Åland Islands', 'Bouvet Island', 'United States Minor Outlying Islands', 'Virgin Islands (British)', 'Virgin Islands (U.S.)', 'Cayman Islands', 'Christmas Island', 'Cocos (Keeling) Islands', 'Cook Islands', 'Falkland Islands (Malvinas)', 'Faroe Islands', 'Finland', 'Greenland', 'Heard Island and McDonald Islands', 'Iceland', 'Ireland', 'Marshall Islands', 'Netherlands', 'New Zealand', 'Norfolk Island', 'Northern Mariana Islands', 'Poland', 'Solomon Islands', 'South Georgia and the South Sandwich Islands', 'Swaziland', 'Switzerland', 'Thailand', 'Turks and Caicos Islands', 'United Kingdom of Great Britain and Northern Ireland']\n"
     ]
    }
   ],
   "source": [
    "from countries_data import countries_data\n",
    "\n",
    "# List to store countries with \"land\" in their name\n",
    "countries_with_land = []\n",
    "\n",
    "# Loop through the countries data\n",
    "for country in countries_data:\n",
    "    if \"land\" in country[\"name\"].lower():\n",
    "        countries_with_land.append(country[\"name\"])\n",
    "\n",
    "# Print the result\n",
    "print(countries_with_land)\n"
   ]
  },
  {
   "cell_type": "markdown",
   "metadata": {},
   "source": [
    "## 2. This is a fruit list, ['banana', 'orange', 'mango', 'lemon'] reverse the order using loop.\n"
   ]
  },
  {
   "cell_type": "code",
   "execution_count": 4,
   "metadata": {},
   "outputs": [
    {
     "name": "stdout",
     "output_type": "stream",
     "text": [
      "['lemon', 'mango', 'orange', 'banana']\n"
     ]
    }
   ],
   "source": [
    "fruits = ['banana', 'orange', 'mango', 'lemon']\n",
    "fruits.reverse()\n",
    "print(fruits)\n"
   ]
  },
  {
   "cell_type": "markdown",
   "metadata": {},
   "source": [
    "## 3. Go to the data folder and use the countries_data.py file.\n",
    "\n",
    "+ ### What are the total number of languages in the data\n",
    "+ ### Find the ten most spoken languages from the data\n",
    "+ ### Find the 10 most populated countries in the world"
   ]
  },
  {
   "cell_type": "code",
   "execution_count": 5,
   "metadata": {},
   "outputs": [
    {
     "name": "stdout",
     "output_type": "stream",
     "text": [
      "Total number of languages: 368\n"
     ]
    }
   ],
   "source": [
    "languages = []\n",
    "for country in countries_data:\n",
    "    languages.extend(country[\"languages\"])\n",
    "\n",
    "total_languages = len(languages)\n",
    "print(f\"Total number of languages: {total_languages}\")"
   ]
  },
  {
   "cell_type": "code",
   "execution_count": 70,
   "metadata": {},
   "outputs": [
    {
     "name": "stdout",
     "output_type": "stream",
     "text": [
      "[[27657145], [28875], [2886026], [40400000], [57100], [78014], [25868000], [13452], [1000], [86295], [43590400], [2994400], [107394], [24117360], [8725931], [9730500], [378040], [1404900], [161006790], [285000], [9498700], [11319511], [370300], [10653654], [61954], [775620], [10985059], [17408], [3531159], [2141206], [0], [206135893], [3000], [300], [28514], [114743], [411900], [7153784], [19034397], [10114505], [15626444], [22709892], [36155487], [531239], [58238], [4998000], [14497000], [18191900], [1377422166], [2072], [550], [48759958], [806153], [4741000], [85026000], [18100], [4890379], [4190669], [11239004], [154843], [847000], [10558524], [5717014], [900000], [71293], [10075045], [16545799], [91290000], [6520675], [1222442], [5352000], [1315944], [92206005], [2563], [49376], [867000], [5491817], [66710000], [254541], [271800], [140], [1802278], [1882450], [3720400], [81770900], [27670174], [33140], [10858018], [55847], [103328], [400132], [184200], [16176133], [62999], [12947000], [1547777], [746900], [11078033], [0], [451], [8576532], [7324300], [9823000], [334300], [1295210000], [258705000], [22671331], [79369900], [37883543], [6378000], [84497], [8527400], [60665551], [2723246], [126960000], [100800], [9531712], [17753200], [47251000], [113400], [4183658], [6047800], [6492400], [1961600], [5988000], [1894194], [4615000], [6385000], [37623], [2872294], [576200], [649100], [2058539], [22434363], [16832910], [31405416], [344023], [18135000], [425384], [54880], [378243], [3718678], [1262879], [226915], [122273473], [102800], [3553100], [38400], [3093100], [621810], [4922], [33337529], [26423700], [51419420], [2324388], [10084], [28431500], [17019800], [268767], [4697854], [6262703], [20715000], [186988000], [1470], [2302], [25281000], [56940], [5223256], [4420133], [194125062], [17950], [4682467], [3814672], [8083700], [6854536], [31488700], [103279800], [56], [38437239], [10374822], [3474182], [2587564], [1733842], [840974], [19861408], [146599183], [11553188], [9417], [4255], [46204], [186000], [36979], [6069], [109991], [194899], [33005], [187356], [32248200], [14799859], [7076372], [91400], [7075641], [5535000], [38247], [5426252], [2064188], [642000], [11079000], [55653654], [30], [50801405], [12131000], [46438422], [20966000], [39598700], [541638], [2562], [1132657], [9894888], [8341600], [18564000], [23503349], [8593600], [55155000], [65327652], [1167242], [7143000], [1411], [103252], [1349667], [11154400], [78741053], [4751120], [31458], [10640], [33860700], [42692393], [9856000], [65110000], [323947000], [3480222], [31576400], [277500], [31028700], [92700000], [11750], [510713], [27478000], [15933883], [14240168]]\n",
      "[1377422166]\n"
     ]
    }
   ],
   "source": [
    "# popu = []\n",
    "# for p in countries_data:\n",
    "#     popu.extend(p[\"population\"])\n",
    "# print(popu)\n",
    "popp = []\n",
    "for p in countries_data:\n",
    "    pop = [p[\"population\"]]\n",
    "    popp.append(pop)\n",
    "print(popp)\n",
    "print(max(popp))\n",
    "    \n"
   ]
  }
 ],
 "metadata": {
  "kernelspec": {
   "display_name": "base",
   "language": "python",
   "name": "python3"
  },
  "language_info": {
   "codemirror_mode": {
    "name": "ipython",
    "version": 3
   },
   "file_extension": ".py",
   "mimetype": "text/x-python",
   "name": "python",
   "nbconvert_exporter": "python",
   "pygments_lexer": "ipython3",
   "version": "3.12.4"
  }
 },
 "nbformat": 4,
 "nbformat_minor": 2
}
